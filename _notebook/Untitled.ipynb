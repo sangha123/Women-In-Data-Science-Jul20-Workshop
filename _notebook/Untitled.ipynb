{
 "cells": [
  {
   "cell_type": "code",
   "execution_count": 1,
   "metadata": {
    "collapsed": true
   },
   "outputs": [],
   "source": [
    "import pandas as pd\n",
    "import numpy as np\n",
    "import scipy\n",
    "import vincent\n",
    "import string\n",
    "import operator"
   ]
  },
  {
   "cell_type": "code",
   "execution_count": 2,
   "metadata": {
    "collapsed": true
   },
   "outputs": [],
   "source": [
    "from contextlib import contextmanager\n",
    "from string import capwords\n",
    "from sklearn.ensemble import RandomForestClassifier "
   ]
  },
  {
   "cell_type": "code",
   "execution_count": 3,
   "metadata": {
    "collapsed": false
   },
   "outputs": [
    {
     "name": "stdout",
     "output_type": "stream",
     "text": [
      "Populating the interactive namespace from numpy and matplotlib\n"
     ]
    }
   ],
   "source": [
    "%pylab inline\n"
   ]
  },
  {
   "cell_type": "code",
   "execution_count": 4,
   "metadata": {
    "collapsed": false
   },
   "outputs": [],
   "source": [
    "crime = pd.read_csv('../train.csv')"
   ]
  },
  {
   "cell_type": "code",
   "execution_count": 5,
   "metadata": {
    "collapsed": false,
    "scrolled": true
   },
   "outputs": [
    {
     "data": {
      "text/html": [
       "<div>\n",
       "<table border=\"1\" class=\"dataframe\">\n",
       "  <thead>\n",
       "    <tr style=\"text-align: right;\">\n",
       "      <th></th>\n",
       "      <th>Dates</th>\n",
       "      <th>Category</th>\n",
       "      <th>Descript</th>\n",
       "      <th>DayOfWeek</th>\n",
       "      <th>PdDistrict</th>\n",
       "      <th>Resolution</th>\n",
       "      <th>Address</th>\n",
       "      <th>X</th>\n",
       "      <th>Y</th>\n",
       "    </tr>\n",
       "  </thead>\n",
       "  <tbody>\n",
       "    <tr>\n",
       "      <th>0</th>\n",
       "      <td>2015-05-13 23:53:00</td>\n",
       "      <td>WARRANTS</td>\n",
       "      <td>WARRANT ARREST</td>\n",
       "      <td>Wednesday</td>\n",
       "      <td>NORTHERN</td>\n",
       "      <td>ARREST, BOOKED</td>\n",
       "      <td>OAK ST / LAGUNA ST</td>\n",
       "      <td>-122.425892</td>\n",
       "      <td>37.774599</td>\n",
       "    </tr>\n",
       "    <tr>\n",
       "      <th>1</th>\n",
       "      <td>2015-05-13 23:53:00</td>\n",
       "      <td>OTHER OFFENSES</td>\n",
       "      <td>TRAFFIC VIOLATION ARREST</td>\n",
       "      <td>Wednesday</td>\n",
       "      <td>NORTHERN</td>\n",
       "      <td>ARREST, BOOKED</td>\n",
       "      <td>OAK ST / LAGUNA ST</td>\n",
       "      <td>-122.425892</td>\n",
       "      <td>37.774599</td>\n",
       "    </tr>\n",
       "    <tr>\n",
       "      <th>2</th>\n",
       "      <td>2015-05-13 23:33:00</td>\n",
       "      <td>OTHER OFFENSES</td>\n",
       "      <td>TRAFFIC VIOLATION ARREST</td>\n",
       "      <td>Wednesday</td>\n",
       "      <td>NORTHERN</td>\n",
       "      <td>ARREST, BOOKED</td>\n",
       "      <td>VANNESS AV / GREENWICH ST</td>\n",
       "      <td>-122.424363</td>\n",
       "      <td>37.800414</td>\n",
       "    </tr>\n",
       "    <tr>\n",
       "      <th>3</th>\n",
       "      <td>2015-05-13 23:30:00</td>\n",
       "      <td>LARCENY/THEFT</td>\n",
       "      <td>GRAND THEFT FROM LOCKED AUTO</td>\n",
       "      <td>Wednesday</td>\n",
       "      <td>NORTHERN</td>\n",
       "      <td>NONE</td>\n",
       "      <td>1500 Block of LOMBARD ST</td>\n",
       "      <td>-122.426995</td>\n",
       "      <td>37.800873</td>\n",
       "    </tr>\n",
       "    <tr>\n",
       "      <th>4</th>\n",
       "      <td>2015-05-13 23:30:00</td>\n",
       "      <td>LARCENY/THEFT</td>\n",
       "      <td>GRAND THEFT FROM LOCKED AUTO</td>\n",
       "      <td>Wednesday</td>\n",
       "      <td>PARK</td>\n",
       "      <td>NONE</td>\n",
       "      <td>100 Block of BRODERICK ST</td>\n",
       "      <td>-122.438738</td>\n",
       "      <td>37.771541</td>\n",
       "    </tr>\n",
       "  </tbody>\n",
       "</table>\n",
       "</div>"
      ],
      "text/plain": [
       "                 Dates        Category                      Descript  \\\n",
       "0  2015-05-13 23:53:00        WARRANTS                WARRANT ARREST   \n",
       "1  2015-05-13 23:53:00  OTHER OFFENSES      TRAFFIC VIOLATION ARREST   \n",
       "2  2015-05-13 23:33:00  OTHER OFFENSES      TRAFFIC VIOLATION ARREST   \n",
       "3  2015-05-13 23:30:00   LARCENY/THEFT  GRAND THEFT FROM LOCKED AUTO   \n",
       "4  2015-05-13 23:30:00   LARCENY/THEFT  GRAND THEFT FROM LOCKED AUTO   \n",
       "\n",
       "   DayOfWeek PdDistrict      Resolution                    Address  \\\n",
       "0  Wednesday   NORTHERN  ARREST, BOOKED         OAK ST / LAGUNA ST   \n",
       "1  Wednesday   NORTHERN  ARREST, BOOKED         OAK ST / LAGUNA ST   \n",
       "2  Wednesday   NORTHERN  ARREST, BOOKED  VANNESS AV / GREENWICH ST   \n",
       "3  Wednesday   NORTHERN            NONE   1500 Block of LOMBARD ST   \n",
       "4  Wednesday       PARK            NONE  100 Block of BRODERICK ST   \n",
       "\n",
       "            X          Y  \n",
       "0 -122.425892  37.774599  \n",
       "1 -122.425892  37.774599  \n",
       "2 -122.424363  37.800414  \n",
       "3 -122.426995  37.800873  \n",
       "4 -122.438738  37.771541  "
      ]
     },
     "execution_count": 5,
     "metadata": {},
     "output_type": "execute_result"
    }
   ],
   "source": [
    "crime.head()"
   ]
  },
  {
   "cell_type": "code",
   "execution_count": 6,
   "metadata": {
    "collapsed": true
   },
   "outputs": [],
   "source": [
    "import seaborn as sns"
   ]
  },
  {
   "cell_type": "code",
   "execution_count": 7,
   "metadata": {
    "collapsed": true
   },
   "outputs": [],
   "source": [
    "def plot_bar(df, title, filename):\n",
    "    p = (\n",
    "        'Set2', 'Paired', 'colorblind', 'husl',\n",
    "        'Set1', 'coolwarm', 'RdYlGn', 'spectral'\n",
    "    )\n",
    "    bar = df.plot(kind='barh',\n",
    "                  title=title,\n",
    "                  fontsize=8,\n",
    "                  figsize=(12,8),\n",
    "                  stacked=False,\n",
    "                  width=1,\n",
    "                  colors = sns.color_palette(np.random.choice(p), len(df)),\n",
    "    )\n",
    "\n",
    "    bar.figure.savefig(filename)\n",
    "    \n",
    "    plt.show()"
   ]
  },
  {
   "cell_type": "code",
   "execution_count": 8,
   "metadata": {
    "collapsed": false
   },
   "outputs": [],
   "source": [
    "def plot_top_crimes(df, column, title, fname, items=0):\n",
    "    df.columns     = df.columns.map(operator.methodcaller('lower'))\n",
    "    by_col         = df.groupby(column) \n",
    "    col_freq       = by_col.size()\n",
    "    col_freq.index = col_freq.index.map(capwords)\n",
    "\n",
    "    col_freq.sort(ascending=True, inplace=True)\n",
    "    plot_bar(col_freq[slice(-1, - items, -1)], title, fname)\n",
    " "
   ]
  },
  {
   "cell_type": "code",
   "execution_count": 9,
   "metadata": {
    "collapsed": false
   },
   "outputs": [
    {
     "data": {
      "text/plain": [
       "Index([u'Dates', u'Category', u'Descript', u'DayOfWeek', u'PdDistrict',\n",
       "       u'Resolution', u'Address', u'X', u'Y'],\n",
       "      dtype='object')"
      ]
     },
     "execution_count": 9,
     "metadata": {},
     "output_type": "execute_result"
    }
   ],
   "source": [
    "crime.columns"
   ]
  },
  {
   "cell_type": "code",
   "execution_count": 10,
   "metadata": {
    "collapsed": false
   },
   "outputs": [],
   "source": [
    "crime.columns     = crime.columns.map(operator.methodcaller('lower'))"
   ]
  },
  {
   "cell_type": "code",
   "execution_count": 11,
   "metadata": {
    "collapsed": false
   },
   "outputs": [],
   "source": [
    "by_col         = crime.groupby('resolution') \n"
   ]
  },
  {
   "cell_type": "code",
   "execution_count": 12,
   "metadata": {
    "collapsed": true
   },
   "outputs": [],
   "source": [
    "col_freq       = by_col.size()\n"
   ]
  },
  {
   "cell_type": "code",
   "execution_count": 13,
   "metadata": {
    "collapsed": false
   },
   "outputs": [
    {
     "data": {
      "text/plain": [
       "resolution\n",
       "ARREST, BOOKED                            206403\n",
       "ARREST, CITED                              77004\n",
       "CLEARED-CONTACT JUVENILE FOR MORE INFO       217\n",
       "COMPLAINANT REFUSES TO PROSECUTE            3976\n",
       "DISTRICT ATTORNEY REFUSES TO PROSECUTE      3934\n",
       "EXCEPTIONAL CLEARANCE                       1530\n",
       "JUVENILE ADMONISHED                         1455\n",
       "JUVENILE BOOKED                             5564\n",
       "JUVENILE CITED                              3332\n",
       "JUVENILE DIVERTED                            355\n",
       "LOCATED                                    17101\n",
       "NONE                                      526790\n",
       "NOT PROSECUTED                              3714\n",
       "PROSECUTED BY OUTSIDE AGENCY                2504\n",
       "PROSECUTED FOR LESSER OFFENSE                 51\n",
       "PSYCHOPATHIC CASE                          14534\n",
       "UNFOUNDED                                   9585\n",
       "dtype: int64"
      ]
     },
     "execution_count": 13,
     "metadata": {},
     "output_type": "execute_result"
    }
   ],
   "source": [
    "col_freq"
   ]
  },
  {
   "cell_type": "code",
   "execution_count": 14,
   "metadata": {
    "collapsed": false
   },
   "outputs": [
    {
     "name": "stdout",
     "output_type": "stream",
     "text": [
      "NONE\n"
     ]
    }
   ],
   "source": [
    "if 'NONE' in col_freq.keys():\n",
    "    print 'NONE'\n",
    "    del(col_freq['NONE'])"
   ]
  },
  {
   "cell_type": "code",
   "execution_count": 15,
   "metadata": {
    "collapsed": false
   },
   "outputs": [
    {
     "data": {
      "text/plain": [
       "resolution\n",
       "ARREST, BOOKED                            206403\n",
       "ARREST, CITED                              77004\n",
       "CLEARED-CONTACT JUVENILE FOR MORE INFO       217\n",
       "COMPLAINANT REFUSES TO PROSECUTE            3976\n",
       "DISTRICT ATTORNEY REFUSES TO PROSECUTE      3934\n",
       "EXCEPTIONAL CLEARANCE                       1530\n",
       "JUVENILE ADMONISHED                         1455\n",
       "JUVENILE BOOKED                             5564\n",
       "JUVENILE CITED                              3332\n",
       "JUVENILE DIVERTED                            355\n",
       "LOCATED                                    17101\n",
       "NOT PROSECUTED                              3714\n",
       "PROSECUTED BY OUTSIDE AGENCY                2504\n",
       "PROSECUTED FOR LESSER OFFENSE                 51\n",
       "PSYCHOPATHIC CASE                          14534\n",
       "UNFOUNDED                                   9585\n",
       "dtype: int64"
      ]
     },
     "execution_count": 15,
     "metadata": {},
     "output_type": "execute_result"
    }
   ],
   "source": [
    "col_freq\n",
    "\n"
   ]
  },
  {
   "cell_type": "code",
   "execution_count": 16,
   "metadata": {
    "collapsed": false
   },
   "outputs": [],
   "source": [
    "if 'None' in col_freq.keys():\n",
    "    print 'None'\n",
    "    col_freq.drop('None')"
   ]
  },
  {
   "cell_type": "code",
   "execution_count": 26,
   "metadata": {
    "collapsed": false
   },
   "outputs": [
    {
     "data": {
      "text/plain": [
       "Arrest, Booked                            206403\n",
       "Arrest, Cited                              77004\n",
       "Cleared-contact Juvenile For More Info       217\n",
       "Complainant Refuses To Prosecute            3976\n",
       "District Attorney Refuses To Prosecute      3934\n",
       "Exceptional Clearance                       1530\n",
       "Juvenile Admonished                         1455\n",
       "Juvenile Booked                             5564\n",
       "Juvenile Cited                              3332\n",
       "Juvenile Diverted                            355\n",
       "Located                                    17101\n",
       "Not Prosecuted                              3714\n",
       "Prosecuted By Outside Agency                2504\n",
       "Prosecuted For Lesser Offense                 51\n",
       "Psychopathic Case                          14534\n",
       "Unfounded                                   9585\n",
       "dtype: int64"
      ]
     },
     "execution_count": 26,
     "metadata": {},
     "output_type": "execute_result"
    }
   ],
   "source": [
    "col_freq"
   ]
  },
  {
   "cell_type": "code",
   "execution_count": 27,
   "metadata": {
    "collapsed": true
   },
   "outputs": [],
   "source": [
    "col_freq.index = col_freq.index.map(capwords)"
   ]
  },
  {
   "cell_type": "code",
   "execution_count": 28,
   "metadata": {
    "collapsed": false
   },
   "outputs": [
    {
     "data": {
      "text/plain": [
       "Index([u'Arrest, Booked', u'Arrest, Cited',\n",
       "       u'Cleared-contact Juvenile For More Info',\n",
       "       u'Complainant Refuses To Prosecute',\n",
       "       u'District Attorney Refuses To Prosecute', u'Exceptional Clearance',\n",
       "       u'Juvenile Admonished', u'Juvenile Booked', u'Juvenile Cited',\n",
       "       u'Juvenile Diverted', u'Located', u'Not Prosecuted',\n",
       "       u'Prosecuted By Outside Agency', u'Prosecuted For Lesser Offense',\n",
       "       u'Psychopathic Case', u'Unfounded'],\n",
       "      dtype='object')"
      ]
     },
     "execution_count": 28,
     "metadata": {},
     "output_type": "execute_result"
    }
   ],
   "source": [
    "col_freq.index"
   ]
  },
  {
   "cell_type": "code",
   "execution_count": 29,
   "metadata": {
    "collapsed": true
   },
   "outputs": [],
   "source": [
    "def extract_csv(filepath):\n",
    "    zp  = ZipFile(filepath)\n",
    "    csv = [f for f in zp.namelist() if os.path.splitext(f)[-1] == '.csv']\n",
    "    return zp.open(csv.pop())\n"
   ]
  },
  {
   "cell_type": "code",
   "execution_count": null,
   "metadata": {
    "collapsed": true
   },
   "outputs": [],
   "source": []
  },
  {
   "cell_type": "code",
   "execution_count": 30,
   "metadata": {
    "collapsed": false
   },
   "outputs": [
    {
     "data": {
      "text/plain": [
       "<matplotlib.figure.Figure at 0x11239a810>"
      ]
     },
     "metadata": {},
     "output_type": "display_data"
    }
   ],
   "source": [
    "sns.set_style(\"whitegrid\")\n",
    "sns.despine()"
   ]
  },
  {
   "cell_type": "code",
   "execution_count": 31,
   "metadata": {
    "collapsed": true
   },
   "outputs": [],
   "source": [
    "def input_transformer(filepath):\n",
    "    with zip_csv_opener(filepath) as fp:\n",
    "        raw = fp.read().decode('utf-8')\n",
    "    return pd.read_csv(io.StringIO(raw), parse_dates=True, index_col=0, na_values='NONE')\n"
   ]
  },
  {
   "cell_type": "code",
   "execution_count": 32,
   "metadata": {
    "collapsed": true
   },
   "outputs": [],
   "source": [
    "@contextmanager\n",
    "def zip_csv_opener(filepath):\n",
    "    fp = extract_csv(filepath) if is_zipfile(filepath) else open(filepath, 'rb')\n",
    "    try:\n",
    "        yield fp\n",
    "    finally:\n",
    "        fp.close()"
   ]
  },
  {
   "cell_type": "code",
   "execution_count": 33,
   "metadata": {
    "collapsed": false
   },
   "outputs": [
    {
     "data": {
      "image/png": "[encoded data removed]",
      "text/plain": [
       "<matplotlib.figure.Figure at 0x1123c3450>"
      ]
     },
     "metadata": {},
     "output_type": "display_data"
    }
   ],
   "source": [
    "plot_top_crimes(crime, 'category',   'Top Crime Categories',        'category.png')"
   ]
  },
  {
   "cell_type": "code",
   "execution_count": 34,
   "metadata": {
    "collapsed": false
   },
   "outputs": [
    {
     "data": {
      "image/png": "[encoded data removed]",
      "text/plain": [
       "<matplotlib.figure.Figure at 0x112590c50>"
      ]
     },
     "metadata": {},
     "output_type": "display_data"
    }
   ],
   "source": [
    "plot_top_crimes(crime, 'resolution', 'Top Crime Resolutions',       'resolution.png')"
   ]
  },
  {
   "cell_type": "code",
   "execution_count": 35,
   "metadata": {
    "collapsed": false
   },
   "outputs": [
    {
     "data": {
      "image/png": "[encoded data removed]",
      "text/plain": [
       "<matplotlib.figure.Figure at 0x112c62810>"
      ]
     },
     "metadata": {},
     "output_type": "display_data"
    }
   ],
   "source": [
    "plot_top_crimes(crime, 'pddistrict', 'Police Department Activity',  'police.png')"
   ]
  },
  {
   "cell_type": "code",
   "execution_count": 36,
   "metadata": {
    "collapsed": false
   },
   "outputs": [
    {
     "data": {
      "image/png": "[encoded data removed]",
      "text/plain": [
       "<matplotlib.figure.Figure at 0x10f1f0290>"
      ]
     },
     "metadata": {},
     "output_type": "display_data"
    }
   ],
   "source": [
    "plot_top_crimes(crime, 'dayofweek',  'Days of the Week', 'weekly.png')"
   ]
  },
  {
   "cell_type": "code",
   "execution_count": 37,
   "metadata": {
    "collapsed": false
   },
   "outputs": [
    {
     "data": {
      "image/png": "[encoded data removed]",
      "text/plain": [
       "<matplotlib.figure.Figure at 0x1133314d0>"
      ]
     },
     "metadata": {},
     "output_type": "display_data"
    }
   ],
   "source": [
    "plot_top_crimes(crime, 'address',    'Top Crime Locations',         'location.png', items=20)"
   ]
  },
  {
   "cell_type": "code",
   "execution_count": 38,
   "metadata": {
    "collapsed": false
   },
   "outputs": [
    {
     "data": {
      "image/png": "[encoded data removed]",
      "text/plain": [
       "<matplotlib.figure.Figure at 0x1132f0710>"
      ]
     },
     "metadata": {},
     "output_type": "display_data"
    }
   ],
   "source": [
    "plot_top_crimes(crime, 'descript','Descriptions','descript.png', items=20)"
   ]
  },
  {
   "cell_type": "code",
   "execution_count": 39,
   "metadata": {
    "collapsed": false
   },
   "outputs": [],
   "source": [
    "column = 'pddistrict'\n",
    "crime.columns     = crime.columns.map(operator.methodcaller('lower'))\n",
    "by_col         = crime.groupby(column) \n",
    "col_freq       = by_col.size()\n",
    "col_freq.index = col_freq.index.map(capwords)\n",
    "\n",
    "col_freq.sort(ascending=False, inplace=True)"
   ]
  },
  {
   "cell_type": "code",
   "execution_count": 40,
   "metadata": {
    "collapsed": false
   },
   "outputs": [
    {
     "data": {
      "text/plain": [
       "Index([u'dates', u'category', u'descript', u'dayofweek', u'pddistrict',\n",
       "       u'resolution', u'address', u'x', u'y'],\n",
       "      dtype='object')"
      ]
     },
     "execution_count": 40,
     "metadata": {},
     "output_type": "execute_result"
    }
   ],
   "source": [
    "crime.columns"
   ]
  },
  {
   "cell_type": "code",
   "execution_count": 41,
   "metadata": {
    "collapsed": false
   },
   "outputs": [
    {
     "data": {
      "text/plain": [
       "Southern      157182\n",
       "Mission       119908\n",
       "Northern      105296\n",
       "Bayview        89431\n",
       "Central        85460\n",
       "Tenderloin     81809\n",
       "Ingleside      78845\n",
       "Taraval        65596\n",
       "Park           49313\n",
       "Richmond       45209\n",
       "dtype: int64"
      ]
     },
     "execution_count": 41,
     "metadata": {},
     "output_type": "execute_result"
    }
   ],
   "source": [
    "col_freq"
   ]
  },
  {
   "cell_type": "code",
   "execution_count": 42,
   "metadata": {
    "collapsed": false
   },
   "outputs": [],
   "source": [
    "cff = crime.groupby(['pddistrict','category'])"
   ]
  },
  {
   "cell_type": "code",
   "execution_count": 43,
   "metadata": {
    "collapsed": false
   },
   "outputs": [
    {
     "data": {
      "text/plain": [
       "pandas.core.frame.DataFrame"
      ]
     },
     "execution_count": 43,
     "metadata": {},
     "output_type": "execute_result"
    }
   ],
   "source": [
    "type(cff.count())"
   ]
  },
  {
   "cell_type": "code",
   "execution_count": 44,
   "metadata": {
    "collapsed": true
   },
   "outputs": [],
   "source": [
    "cc = cff.count()"
   ]
  },
  {
   "cell_type": "code",
   "execution_count": 45,
   "metadata": {
    "collapsed": false
   },
   "outputs": [
    {
     "name": "stdout",
     "output_type": "stream",
     "text": [
      "dates\n",
      "descript\n",
      "dayofweek\n",
      "resolution\n",
      "address\n",
      "x\n",
      "y\n"
     ]
    }
   ],
   "source": [
    "for group in cc:\n",
    "    print group"
   ]
  },
  {
   "cell_type": "code",
   "execution_count": 46,
   "metadata": {
    "collapsed": false
   },
   "outputs": [
    {
     "data": {
      "text/plain": [
       "pandas.core.frame.DataFrame"
      ]
     },
     "execution_count": 46,
     "metadata": {},
     "output_type": "execute_result"
    }
   ],
   "source": [
    "type(cc)"
   ]
  },
  {
   "cell_type": "code",
   "execution_count": 47,
   "metadata": {
    "collapsed": false
   },
   "outputs": [],
   "source": [
    "dd = cc.get_values"
   ]
  },
  {
   "cell_type": "code",
   "execution_count": 48,
   "metadata": {
    "collapsed": false
   },
   "outputs": [
    {
     "data": {
      "text/plain": [
       "array([[ 393,  393,  393, ...,  393,  393,  393],\n",
       "       [9857, 9857, 9857, ..., 9857, 9857, 9857],\n",
       "       [  34,   34,   34, ...,   34,   34,   34],\n",
       "       ..., \n",
       "       [1006, 1006, 1006, ..., 1006, 1006, 1006],\n",
       "       [7326, 7326, 7326, ..., 7326, 7326, 7326],\n",
       "       [ 794,  794,  794, ...,  794,  794,  794]])"
      ]
     },
     "execution_count": 48,
     "metadata": {},
     "output_type": "execute_result"
    }
   ],
   "source": [
    "cc.values"
   ]
  },
  {
   "cell_type": "code",
   "execution_count": 49,
   "metadata": {
    "collapsed": false
   },
   "outputs": [
    {
     "data": {
      "text/plain": [
       "('BAYVIEW', 'ARSON')"
      ]
     },
     "execution_count": 49,
     "metadata": {},
     "output_type": "execute_result"
    }
   ],
   "source": [
    "cc.index[0]"
   ]
  },
  {
   "cell_type": "code",
   "execution_count": 50,
   "metadata": {
    "collapsed": false
   },
   "outputs": [
    {
     "data": {
      "text/plain": [
       "('BAYVIEW', 'ASSAULT')"
      ]
     },
     "execution_count": 50,
     "metadata": {},
     "output_type": "execute_result"
    }
   ],
   "source": [
    "cc.index[1]"
   ]
  },
  {
   "cell_type": "code",
   "execution_count": 51,
   "metadata": {
    "collapsed": false
   },
   "outputs": [
    {
     "data": {
      "text/plain": [
       "393"
      ]
     },
     "execution_count": 51,
     "metadata": {},
     "output_type": "execute_result"
    }
   ],
   "source": [
    "cc.address[0]"
   ]
  },
  {
   "cell_type": "code",
   "execution_count": 52,
   "metadata": {
    "collapsed": false
   },
   "outputs": [
    {
     "data": {
      "text/plain": [
       "393"
      ]
     },
     "execution_count": 52,
     "metadata": {},
     "output_type": "execute_result"
    }
   ],
   "source": [
    "cff.get_group(('BAYVIEW','ARSON')).count().address"
   ]
  },
  {
   "cell_type": "code",
   "execution_count": 53,
   "metadata": {
    "collapsed": false
   },
   "outputs": [
    {
     "data": {
      "text/plain": [
       "Index([u'BAYVIEW', u'CENTRAL', u'INGLESIDE', u'MISSION', u'NORTHERN', u'PARK',\n",
       "       u'RICHMOND', u'SOUTHERN', u'TARAVAL', u'TENDERLOIN'],\n",
       "      dtype='object', name=u'pddistrict')"
      ]
     },
     "execution_count": 53,
     "metadata": {},
     "output_type": "execute_result"
    }
   ],
   "source": [
    "cc.index.levels[0]"
   ]
  },
  {
   "cell_type": "code",
   "execution_count": 54,
   "metadata": {
    "collapsed": false
   },
   "outputs": [
    {
     "data": {
      "text/plain": [
       "Index([u'ARSON', u'ASSAULT', u'BAD CHECKS', u'BRIBERY', u'BURGLARY',\n",
       "       u'DISORDERLY CONDUCT', u'DRIVING UNDER THE INFLUENCE', u'DRUG/NARCOTIC',\n",
       "       u'DRUNKENNESS', u'EMBEZZLEMENT', u'EXTORTION', u'FAMILY OFFENSES',\n",
       "       u'FORGERY/COUNTERFEITING', u'FRAUD', u'GAMBLING', u'KIDNAPPING',\n",
       "       u'LARCENY/THEFT', u'LIQUOR LAWS', u'LOITERING', u'MISSING PERSON',\n",
       "       u'NON-CRIMINAL', u'OTHER OFFENSES', u'PORNOGRAPHY/OBSCENE MAT',\n",
       "       u'PROSTITUTION', u'RECOVERED VEHICLE', u'ROBBERY', u'RUNAWAY',\n",
       "       u'SECONDARY CODES', u'SEX OFFENSES FORCIBLE',\n",
       "       u'SEX OFFENSES NON FORCIBLE', u'STOLEN PROPERTY', u'SUICIDE',\n",
       "       u'SUSPICIOUS OCC', u'TREA', u'TRESPASS', u'VANDALISM', u'VEHICLE THEFT',\n",
       "       u'WARRANTS', u'WEAPON LAWS'],\n",
       "      dtype='object', name=u'category')"
      ]
     },
     "execution_count": 54,
     "metadata": {},
     "output_type": "execute_result"
    }
   ],
   "source": [
    "cc.index.levels[1]"
   ]
  },
  {
   "cell_type": "code",
   "execution_count": 55,
   "metadata": {
    "collapsed": false
   },
   "outputs": [],
   "source": [
    "from collections import defaultdict\n",
    "cnt=0\n",
    "neib_cat={}\n",
    "for nn in cc.index.levels[0]:\n",
    "    neib_cat[nn]=defaultdict()"
   ]
  },
  {
   "cell_type": "code",
   "execution_count": 56,
   "metadata": {
    "collapsed": false
   },
   "outputs": [
    {
     "data": {
      "text/plain": [
       "{'BAYVIEW': defaultdict(None, {}),\n",
       " 'CENTRAL': defaultdict(None, {}),\n",
       " 'INGLESIDE': defaultdict(None, {}),\n",
       " 'MISSION': defaultdict(None, {}),\n",
       " 'NORTHERN': defaultdict(None, {}),\n",
       " 'PARK': defaultdict(None, {}),\n",
       " 'RICHMOND': defaultdict(None, {}),\n",
       " 'SOUTHERN': defaultdict(None, {}),\n",
       " 'TARAVAL': defaultdict(None, {}),\n",
       " 'TENDERLOIN': defaultdict(None, {})}"
      ]
     },
     "execution_count": 56,
     "metadata": {},
     "output_type": "execute_result"
    }
   ],
   "source": [
    "neib_cat"
   ]
  },
  {
   "cell_type": "code",
   "execution_count": 57,
   "metadata": {
    "collapsed": false
   },
   "outputs": [],
   "source": [
    "cnt = 0\n",
    "d_now = defaultdict()\n",
    "neib_cat={}\n",
    "for nn,vv in zip(cc.index,cc.address.values):\n",
    "    if (nn[0] == cc.index.levels[0][cnt]):\n",
    "        neib = nn[0]\n",
    "        \n",
    "        d_now[nn[1]] = vv\n",
    "    neib_cat[nn[0]] = d_now\n",
    "    if (nn[0] != cc.index.levels[0][cnt]):\n",
    "        cnt += 1\n",
    "        d_now = defaultdict()\n",
    "    "
   ]
  },
  {
   "cell_type": "code",
   "execution_count": 58,
   "metadata": {
    "collapsed": false
   },
   "outputs": [
    {
     "data": {
      "text/plain": [
       "defaultdict(None, {'KIDNAPPING': 313, 'WEAPON LAWS': 1647, 'SECONDARY CODES': 1662, 'WARRANTS': 4322, 'LOITERING': 50, 'EMBEZZLEMENT': 100, 'SUICIDE': 37, 'DRIVING UNDER THE INFLUENCE': 179, 'VEHICLE THEFT': 7219, 'ROBBERY': 2715, 'BURGLARY': 3930, 'STOLEN PROPERTY': 397, 'PORNOGRAPHY/OBSCENE MAT': 2, 'SUSPICIOUS OCC': 3906, 'ARSON': 393, 'BRIBERY': 56, 'FORGERY/COUNTERFEITING': 774, 'BAD CHECKS': 34, 'DRUNKENNESS': 243, 'GAMBLING': 29, 'OTHER OFFENSES': 17053, 'RECOVERED VEHICLE': 735, 'FRAUD': 866, 'FAMILY OFFENSES': 73, 'DRUG/NARCOTIC': 4498, 'SEX OFFENSES NON FORCIBLE': 22, 'LARCENY/THEFT': 10119, 'VANDALISM': 5356, 'MISSING PERSON': 5038, 'LIQUOR LAWS': 114, 'TRESPASS': 636, 'TREA': 3, 'SEX OFFENSES FORCIBLE': 387, 'EXTORTION': 13, 'ASSAULT': 9857, 'RUNAWAY': 265, 'NON-CRIMINAL': 6099, 'DISORDERLY CONDUCT': 219, 'PROSTITUTION': 70})"
      ]
     },
     "execution_count": 58,
     "metadata": {},
     "output_type": "execute_result"
    }
   ],
   "source": [
    "neib_cat['BAYVIEW']"
   ]
  },
  {
   "cell_type": "code",
   "execution_count": 86,
   "metadata": {
    "collapsed": false
   },
   "outputs": [
    {
     "data": {
      "text/html": [
       "<div>\n",
       "<table border=\"1\" class=\"dataframe\">\n",
       "  <thead>\n",
       "    <tr style=\"text-align: right;\">\n",
       "      <th></th>\n",
       "      <th>BAYVIEW</th>\n",
       "      <th>CENTRAL</th>\n",
       "      <th>INGLESIDE</th>\n",
       "      <th>MISSION</th>\n",
       "      <th>NORTHERN</th>\n",
       "      <th>PARK</th>\n",
       "      <th>RICHMOND</th>\n",
       "      <th>SOUTHERN</th>\n",
       "      <th>TARAVAL</th>\n",
       "      <th>TENDERLOIN</th>\n",
       "    </tr>\n",
       "  </thead>\n",
       "  <tbody>\n",
       "    <tr>\n",
       "      <th>ARSON</th>\n",
       "      <td>393</td>\n",
       "      <td>NaN</td>\n",
       "      <td>NaN</td>\n",
       "      <td>NaN</td>\n",
       "      <td>NaN</td>\n",
       "      <td>NaN</td>\n",
       "      <td>NaN</td>\n",
       "      <td>NaN</td>\n",
       "      <td>NaN</td>\n",
       "      <td>NaN</td>\n",
       "    </tr>\n",
       "    <tr>\n",
       "      <th>ASSAULT</th>\n",
       "      <td>9857</td>\n",
       "      <td>6977</td>\n",
       "      <td>8533</td>\n",
       "      <td>11149</td>\n",
       "      <td>8318</td>\n",
       "      <td>3515</td>\n",
       "      <td>3202</td>\n",
       "      <td>12183</td>\n",
       "      <td>5463</td>\n",
       "      <td>7679</td>\n",
       "    </tr>\n",
       "    <tr>\n",
       "      <th>BAD CHECKS</th>\n",
       "      <td>34</td>\n",
       "      <td>65</td>\n",
       "      <td>32</td>\n",
       "      <td>46</td>\n",
       "      <td>54</td>\n",
       "      <td>15</td>\n",
       "      <td>31</td>\n",
       "      <td>74</td>\n",
       "      <td>36</td>\n",
       "      <td>19</td>\n",
       "    </tr>\n",
       "    <tr>\n",
       "      <th>BRIBERY</th>\n",
       "      <td>56</td>\n",
       "      <td>12</td>\n",
       "      <td>53</td>\n",
       "      <td>66</td>\n",
       "      <td>18</td>\n",
       "      <td>7</td>\n",
       "      <td>8</td>\n",
       "      <td>37</td>\n",
       "      <td>17</td>\n",
       "      <td>15</td>\n",
       "    </tr>\n",
       "    <tr>\n",
       "      <th>BURGLARY</th>\n",
       "      <td>3930</td>\n",
       "      <td>4519</td>\n",
       "      <td>3331</td>\n",
       "      <td>3745</td>\n",
       "      <td>5854</td>\n",
       "      <td>2888</td>\n",
       "      <td>2696</td>\n",
       "      <td>4841</td>\n",
       "      <td>3463</td>\n",
       "      <td>1488</td>\n",
       "    </tr>\n",
       "    <tr>\n",
       "      <th>DISORDERLY CONDUCT</th>\n",
       "      <td>219</td>\n",
       "      <td>494</td>\n",
       "      <td>171</td>\n",
       "      <td>1099</td>\n",
       "      <td>452</td>\n",
       "      <td>271</td>\n",
       "      <td>108</td>\n",
       "      <td>511</td>\n",
       "      <td>162</td>\n",
       "      <td>833</td>\n",
       "    </tr>\n",
       "    <tr>\n",
       "      <th>DRIVING UNDER THE INFLUENCE</th>\n",
       "      <td>179</td>\n",
       "      <td>160</td>\n",
       "      <td>206</td>\n",
       "      <td>357</td>\n",
       "      <td>260</td>\n",
       "      <td>176</td>\n",
       "      <td>319</td>\n",
       "      <td>306</td>\n",
       "      <td>202</td>\n",
       "      <td>103</td>\n",
       "    </tr>\n",
       "    <tr>\n",
       "      <th>DRUG/NARCOTIC</th>\n",
       "      <td>4498</td>\n",
       "      <td>1805</td>\n",
       "      <td>2373</td>\n",
       "      <td>8757</td>\n",
       "      <td>4511</td>\n",
       "      <td>2573</td>\n",
       "      <td>999</td>\n",
       "      <td>9228</td>\n",
       "      <td>1531</td>\n",
       "      <td>17696</td>\n",
       "    </tr>\n",
       "    <tr>\n",
       "      <th>DRUNKENNESS</th>\n",
       "      <td>243</td>\n",
       "      <td>517</td>\n",
       "      <td>190</td>\n",
       "      <td>782</td>\n",
       "      <td>368</td>\n",
       "      <td>374</td>\n",
       "      <td>149</td>\n",
       "      <td>959</td>\n",
       "      <td>259</td>\n",
       "      <td>439</td>\n",
       "    </tr>\n",
       "    <tr>\n",
       "      <th>EMBEZZLEMENT</th>\n",
       "      <td>100</td>\n",
       "      <td>180</td>\n",
       "      <td>78</td>\n",
       "      <td>124</td>\n",
       "      <td>131</td>\n",
       "      <td>50</td>\n",
       "      <td>43</td>\n",
       "      <td>275</td>\n",
       "      <td>94</td>\n",
       "      <td>91</td>\n",
       "    </tr>\n",
       "    <tr>\n",
       "      <th>EXTORTION</th>\n",
       "      <td>13</td>\n",
       "      <td>51</td>\n",
       "      <td>29</td>\n",
       "      <td>26</td>\n",
       "      <td>24</td>\n",
       "      <td>8</td>\n",
       "      <td>23</td>\n",
       "      <td>38</td>\n",
       "      <td>36</td>\n",
       "      <td>8</td>\n",
       "    </tr>\n",
       "    <tr>\n",
       "      <th>FAMILY OFFENSES</th>\n",
       "      <td>73</td>\n",
       "      <td>28</td>\n",
       "      <td>71</td>\n",
       "      <td>142</td>\n",
       "      <td>12</td>\n",
       "      <td>26</td>\n",
       "      <td>23</td>\n",
       "      <td>42</td>\n",
       "      <td>35</td>\n",
       "      <td>39</td>\n",
       "    </tr>\n",
       "    <tr>\n",
       "      <th>FORGERY/COUNTERFEITING</th>\n",
       "      <td>774</td>\n",
       "      <td>1144</td>\n",
       "      <td>977</td>\n",
       "      <td>1281</td>\n",
       "      <td>1292</td>\n",
       "      <td>518</td>\n",
       "      <td>619</td>\n",
       "      <td>2345</td>\n",
       "      <td>1097</td>\n",
       "      <td>562</td>\n",
       "    </tr>\n",
       "    <tr>\n",
       "      <th>FRAUD</th>\n",
       "      <td>866</td>\n",
       "      <td>2344</td>\n",
       "      <td>1213</td>\n",
       "      <td>1970</td>\n",
       "      <td>2055</td>\n",
       "      <td>974</td>\n",
       "      <td>1137</td>\n",
       "      <td>3441</td>\n",
       "      <td>1549</td>\n",
       "      <td>1130</td>\n",
       "    </tr>\n",
       "    <tr>\n",
       "      <th>GAMBLING</th>\n",
       "      <td>29</td>\n",
       "      <td>31</td>\n",
       "      <td>16</td>\n",
       "      <td>18</td>\n",
       "      <td>10</td>\n",
       "      <td>1</td>\n",
       "      <td>4</td>\n",
       "      <td>17</td>\n",
       "      <td>8</td>\n",
       "      <td>12</td>\n",
       "    </tr>\n",
       "    <tr>\n",
       "      <th>KIDNAPPING</th>\n",
       "      <td>313</td>\n",
       "      <td>197</td>\n",
       "      <td>348</td>\n",
       "      <td>312</td>\n",
       "      <td>231</td>\n",
       "      <td>94</td>\n",
       "      <td>104</td>\n",
       "      <td>340</td>\n",
       "      <td>191</td>\n",
       "      <td>211</td>\n",
       "    </tr>\n",
       "    <tr>\n",
       "      <th>LARCENY/THEFT</th>\n",
       "      <td>10119</td>\n",
       "      <td>25060</td>\n",
       "      <td>10236</td>\n",
       "      <td>18223</td>\n",
       "      <td>28630</td>\n",
       "      <td>9146</td>\n",
       "      <td>9893</td>\n",
       "      <td>41845</td>\n",
       "      <td>11845</td>\n",
       "      <td>9903</td>\n",
       "    </tr>\n",
       "    <tr>\n",
       "      <th>LIQUOR LAWS</th>\n",
       "      <td>114</td>\n",
       "      <td>141</td>\n",
       "      <td>106</td>\n",
       "      <td>495</td>\n",
       "      <td>124</td>\n",
       "      <td>149</td>\n",
       "      <td>81</td>\n",
       "      <td>385</td>\n",
       "      <td>122</td>\n",
       "      <td>186</td>\n",
       "    </tr>\n",
       "    <tr>\n",
       "      <th>LOITERING</th>\n",
       "      <td>50</td>\n",
       "      <td>70</td>\n",
       "      <td>26</td>\n",
       "      <td>191</td>\n",
       "      <td>193</td>\n",
       "      <td>23</td>\n",
       "      <td>8</td>\n",
       "      <td>429</td>\n",
       "      <td>34</td>\n",
       "      <td>201</td>\n",
       "    </tr>\n",
       "    <tr>\n",
       "      <th>MISSING PERSON</th>\n",
       "      <td>5038</td>\n",
       "      <td>1348</td>\n",
       "      <td>3181</td>\n",
       "      <td>3283</td>\n",
       "      <td>1956</td>\n",
       "      <td>2713</td>\n",
       "      <td>1183</td>\n",
       "      <td>3064</td>\n",
       "      <td>3390</td>\n",
       "      <td>833</td>\n",
       "    </tr>\n",
       "    <tr>\n",
       "      <th>NON-CRIMINAL</th>\n",
       "      <td>6099</td>\n",
       "      <td>10940</td>\n",
       "      <td>6853</td>\n",
       "      <td>12372</td>\n",
       "      <td>10240</td>\n",
       "      <td>5925</td>\n",
       "      <td>5744</td>\n",
       "      <td>19745</td>\n",
       "      <td>6919</td>\n",
       "      <td>7467</td>\n",
       "    </tr>\n",
       "    <tr>\n",
       "      <th>OTHER OFFENSES</th>\n",
       "      <td>17053</td>\n",
       "      <td>8901</td>\n",
       "      <td>13203</td>\n",
       "      <td>19330</td>\n",
       "      <td>12233</td>\n",
       "      <td>6184</td>\n",
       "      <td>5632</td>\n",
       "      <td>21308</td>\n",
       "      <td>8614</td>\n",
       "      <td>13724</td>\n",
       "    </tr>\n",
       "    <tr>\n",
       "      <th>PORNOGRAPHY/OBSCENE MAT</th>\n",
       "      <td>2</td>\n",
       "      <td>2</td>\n",
       "      <td>NaN</td>\n",
       "      <td>3</td>\n",
       "      <td>5</td>\n",
       "      <td>NaN</td>\n",
       "      <td>1</td>\n",
       "      <td>4</td>\n",
       "      <td>4</td>\n",
       "      <td>1</td>\n",
       "    </tr>\n",
       "    <tr>\n",
       "      <th>PROSTITUTION</th>\n",
       "      <td>70</td>\n",
       "      <td>778</td>\n",
       "      <td>26</td>\n",
       "      <td>3629</td>\n",
       "      <td>1831</td>\n",
       "      <td>5</td>\n",
       "      <td>24</td>\n",
       "      <td>135</td>\n",
       "      <td>82</td>\n",
       "      <td>904</td>\n",
       "    </tr>\n",
       "    <tr>\n",
       "      <th>RECOVERED VEHICLE</th>\n",
       "      <td>735</td>\n",
       "      <td>178</td>\n",
       "      <td>662</td>\n",
       "      <td>325</td>\n",
       "      <td>273</td>\n",
       "      <td>117</td>\n",
       "      <td>125</td>\n",
       "      <td>326</td>\n",
       "      <td>262</td>\n",
       "      <td>135</td>\n",
       "    </tr>\n",
       "    <tr>\n",
       "      <th>ROBBERY</th>\n",
       "      <td>2715</td>\n",
       "      <td>1999</td>\n",
       "      <td>2788</td>\n",
       "      <td>3629</td>\n",
       "      <td>2640</td>\n",
       "      <td>957</td>\n",
       "      <td>787</td>\n",
       "      <td>3878</td>\n",
       "      <td>1405</td>\n",
       "      <td>2202</td>\n",
       "    </tr>\n",
       "    <tr>\n",
       "      <th>RUNAWAY</th>\n",
       "      <td>265</td>\n",
       "      <td>43</td>\n",
       "      <td>148</td>\n",
       "      <td>298</td>\n",
       "      <td>88</td>\n",
       "      <td>485</td>\n",
       "      <td>94</td>\n",
       "      <td>108</td>\n",
       "      <td>408</td>\n",
       "      <td>9</td>\n",
       "    </tr>\n",
       "    <tr>\n",
       "      <th>SECONDARY CODES</th>\n",
       "      <td>1662</td>\n",
       "      <td>704</td>\n",
       "      <td>1300</td>\n",
       "      <td>1439</td>\n",
       "      <td>999</td>\n",
       "      <td>444</td>\n",
       "      <td>525</td>\n",
       "      <td>1205</td>\n",
       "      <td>983</td>\n",
       "      <td>724</td>\n",
       "    </tr>\n",
       "    <tr>\n",
       "      <th>SEX OFFENSES FORCIBLE</th>\n",
       "      <td>387</td>\n",
       "      <td>394</td>\n",
       "      <td>504</td>\n",
       "      <td>718</td>\n",
       "      <td>435</td>\n",
       "      <td>212</td>\n",
       "      <td>216</td>\n",
       "      <td>819</td>\n",
       "      <td>383</td>\n",
       "      <td>320</td>\n",
       "    </tr>\n",
       "    <tr>\n",
       "      <th>SEX OFFENSES NON FORCIBLE</th>\n",
       "      <td>22</td>\n",
       "      <td>7</td>\n",
       "      <td>22</td>\n",
       "      <td>35</td>\n",
       "      <td>9</td>\n",
       "      <td>6</td>\n",
       "      <td>10</td>\n",
       "      <td>17</td>\n",
       "      <td>15</td>\n",
       "      <td>5</td>\n",
       "    </tr>\n",
       "    <tr>\n",
       "      <th>STOLEN PROPERTY</th>\n",
       "      <td>397</td>\n",
       "      <td>510</td>\n",
       "      <td>347</td>\n",
       "      <td>631</td>\n",
       "      <td>700</td>\n",
       "      <td>175</td>\n",
       "      <td>206</td>\n",
       "      <td>1007</td>\n",
       "      <td>231</td>\n",
       "      <td>336</td>\n",
       "    </tr>\n",
       "    <tr>\n",
       "      <th>SUICIDE</th>\n",
       "      <td>37</td>\n",
       "      <td>60</td>\n",
       "      <td>65</td>\n",
       "      <td>72</td>\n",
       "      <td>67</td>\n",
       "      <td>20</td>\n",
       "      <td>42</td>\n",
       "      <td>59</td>\n",
       "      <td>59</td>\n",
       "      <td>27</td>\n",
       "    </tr>\n",
       "    <tr>\n",
       "      <th>SUSPICIOUS OCC</th>\n",
       "      <td>3906</td>\n",
       "      <td>2842</td>\n",
       "      <td>3167</td>\n",
       "      <td>3808</td>\n",
       "      <td>3270</td>\n",
       "      <td>1656</td>\n",
       "      <td>2191</td>\n",
       "      <td>5065</td>\n",
       "      <td>2996</td>\n",
       "      <td>2513</td>\n",
       "    </tr>\n",
       "    <tr>\n",
       "      <th>TREA</th>\n",
       "      <td>3</td>\n",
       "      <td>1</td>\n",
       "      <td>NaN</td>\n",
       "      <td>1</td>\n",
       "      <td>1</td>\n",
       "      <td>NaN</td>\n",
       "      <td>NaN</td>\n",
       "      <td>NaN</td>\n",
       "      <td>NaN</td>\n",
       "      <td>NaN</td>\n",
       "    </tr>\n",
       "    <tr>\n",
       "      <th>TRESPASS</th>\n",
       "      <td>636</td>\n",
       "      <td>904</td>\n",
       "      <td>416</td>\n",
       "      <td>1021</td>\n",
       "      <td>780</td>\n",
       "      <td>290</td>\n",
       "      <td>245</td>\n",
       "      <td>1456</td>\n",
       "      <td>386</td>\n",
       "      <td>1192</td>\n",
       "    </tr>\n",
       "    <tr>\n",
       "      <th>VANDALISM</th>\n",
       "      <td>5356</td>\n",
       "      <td>4469</td>\n",
       "      <td>5374</td>\n",
       "      <td>5294</td>\n",
       "      <td>5404</td>\n",
       "      <td>2613</td>\n",
       "      <td>3180</td>\n",
       "      <td>6550</td>\n",
       "      <td>4869</td>\n",
       "      <td>1616</td>\n",
       "    </tr>\n",
       "    <tr>\n",
       "      <th>VEHICLE THEFT</th>\n",
       "      <td>7219</td>\n",
       "      <td>4210</td>\n",
       "      <td>8960</td>\n",
       "      <td>7148</td>\n",
       "      <td>6291</td>\n",
       "      <td>3963</td>\n",
       "      <td>4117</td>\n",
       "      <td>4725</td>\n",
       "      <td>6142</td>\n",
       "      <td>1006</td>\n",
       "    </tr>\n",
       "    <tr>\n",
       "      <th>WARRANTS</th>\n",
       "      <td>4322</td>\n",
       "      <td>2777</td>\n",
       "      <td>2528</td>\n",
       "      <td>6615</td>\n",
       "      <td>4599</td>\n",
       "      <td>2318</td>\n",
       "      <td>1010</td>\n",
       "      <td>9102</td>\n",
       "      <td>1617</td>\n",
       "      <td>7326</td>\n",
       "    </tr>\n",
       "    <tr>\n",
       "      <th>WEAPON LAWS</th>\n",
       "      <td>1647</td>\n",
       "      <td>487</td>\n",
       "      <td>1130</td>\n",
       "      <td>1329</td>\n",
       "      <td>789</td>\n",
       "      <td>357</td>\n",
       "      <td>327</td>\n",
       "      <td>1128</td>\n",
       "      <td>567</td>\n",
       "      <td>794</td>\n",
       "    </tr>\n",
       "  </tbody>\n",
       "</table>\n",
       "</div>"
      ],
      "text/plain": [
       "                             BAYVIEW  CENTRAL  INGLESIDE  MISSION  NORTHERN  \\\n",
       "ARSON                            393      NaN        NaN      NaN       NaN   \n",
       "ASSAULT                         9857     6977       8533    11149      8318   \n",
       "BAD CHECKS                        34       65         32       46        54   \n",
       "BRIBERY                           56       12         53       66        18   \n",
       "BURGLARY                        3930     4519       3331     3745      5854   \n",
       "DISORDERLY CONDUCT               219      494        171     1099       452   \n",
       "DRIVING UNDER THE INFLUENCE      179      160        206      357       260   \n",
       "DRUG/NARCOTIC                   4498     1805       2373     8757      4511   \n",
       "DRUNKENNESS                      243      517        190      782       368   \n",
       "EMBEZZLEMENT                     100      180         78      124       131   \n",
       "EXTORTION                         13       51         29       26        24   \n",
       "FAMILY OFFENSES                   73       28         71      142        12   \n",
       "FORGERY/COUNTERFEITING           774     1144        977     1281      1292   \n",
       "FRAUD                            866     2344       1213     1970      2055   \n",
       "GAMBLING                          29       31         16       18        10   \n",
       "KIDNAPPING                       313      197        348      312       231   \n",
       "LARCENY/THEFT                  10119    25060      10236    18223     28630   \n",
       "LIQUOR LAWS                      114      141        106      495       124   \n",
       "LOITERING                         50       70         26      191       193   \n",
       "MISSING PERSON                  5038     1348       3181     3283      1956   \n",
       "NON-CRIMINAL                    6099    10940       6853    12372     10240   \n",
       "OTHER OFFENSES                 17053     8901      13203    19330     12233   \n",
       "PORNOGRAPHY/OBSCENE MAT            2        2        NaN        3         5   \n",
       "PROSTITUTION                      70      778         26     3629      1831   \n",
       "RECOVERED VEHICLE                735      178        662      325       273   \n",
       "ROBBERY                         2715     1999       2788     3629      2640   \n",
       "RUNAWAY                          265       43        148      298        88   \n",
       "SECONDARY CODES                 1662      704       1300     1439       999   \n",
       "SEX OFFENSES FORCIBLE            387      394        504      718       435   \n",
       "SEX OFFENSES NON FORCIBLE         22        7         22       35         9   \n",
       "STOLEN PROPERTY                  397      510        347      631       700   \n",
       "SUICIDE                           37       60         65       72        67   \n",
       "SUSPICIOUS OCC                  3906     2842       3167     3808      3270   \n",
       "TREA                               3        1        NaN        1         1   \n",
       "TRESPASS                         636      904        416     1021       780   \n",
       "VANDALISM                       5356     4469       5374     5294      5404   \n",
       "VEHICLE THEFT                   7219     4210       8960     7148      6291   \n",
       "WARRANTS                        4322     2777       2528     6615      4599   \n",
       "WEAPON LAWS                     1647      487       1130     1329       789   \n",
       "\n",
       "                             PARK  RICHMOND  SOUTHERN  TARAVAL  TENDERLOIN  \n",
       "ARSON                         NaN       NaN       NaN      NaN         NaN  \n",
       "ASSAULT                      3515      3202     12183     5463        7679  \n",
       "BAD CHECKS                     15        31        74       36          19  \n",
       "BRIBERY                         7         8        37       17          15  \n",
       "BURGLARY                     2888      2696      4841     3463        1488  \n",
       "DISORDERLY CONDUCT            271       108       511      162         833  \n",
       "DRIVING UNDER THE INFLUENCE   176       319       306      202         103  \n",
       "DRUG/NARCOTIC                2573       999      9228     1531       17696  \n",
       "DRUNKENNESS                   374       149       959      259         439  \n",
       "EMBEZZLEMENT                   50        43       275       94          91  \n",
       "EXTORTION                       8        23        38       36           8  \n",
       "FAMILY OFFENSES                26        23        42       35          39  \n",
       "FORGERY/COUNTERFEITING        518       619      2345     1097         562  \n",
       "FRAUD                         974      1137      3441     1549        1130  \n",
       "GAMBLING                        1         4        17        8          12  \n",
       "KIDNAPPING                     94       104       340      191         211  \n",
       "LARCENY/THEFT                9146      9893     41845    11845        9903  \n",
       "LIQUOR LAWS                   149        81       385      122         186  \n",
       "LOITERING                      23         8       429       34         201  \n",
       "MISSING PERSON               2713      1183      3064     3390         833  \n",
       "NON-CRIMINAL                 5925      5744     19745     6919        7467  \n",
       "OTHER OFFENSES               6184      5632     21308     8614       13724  \n",
       "PORNOGRAPHY/OBSCENE MAT       NaN         1         4        4           1  \n",
       "PROSTITUTION                    5        24       135       82         904  \n",
       "RECOVERED VEHICLE             117       125       326      262         135  \n",
       "ROBBERY                       957       787      3878     1405        2202  \n",
       "RUNAWAY                       485        94       108      408           9  \n",
       "SECONDARY CODES               444       525      1205      983         724  \n",
       "SEX OFFENSES FORCIBLE         212       216       819      383         320  \n",
       "SEX OFFENSES NON FORCIBLE       6        10        17       15           5  \n",
       "STOLEN PROPERTY               175       206      1007      231         336  \n",
       "SUICIDE                        20        42        59       59          27  \n",
       "SUSPICIOUS OCC               1656      2191      5065     2996        2513  \n",
       "TREA                          NaN       NaN       NaN      NaN         NaN  \n",
       "TRESPASS                      290       245      1456      386        1192  \n",
       "VANDALISM                    2613      3180      6550     4869        1616  \n",
       "VEHICLE THEFT                3963      4117      4725     6142        1006  \n",
       "WARRANTS                     2318      1010      9102     1617        7326  \n",
       "WEAPON LAWS                   357       327      1128      567         794  "
      ]
     },
     "execution_count": 86,
     "metadata": {},
     "output_type": "execute_result"
    }
   ],
   "source": [
    "df = pd.DataFrame(neib_cat)\n",
    "df"
   ]
  },
  {
   "cell_type": "code",
   "execution_count": 81,
   "metadata": {
    "collapsed": false
   },
   "outputs": [
    {
     "data": {
      "text/plain": [
       "'ARSON'"
      ]
     },
     "execution_count": 81,
     "metadata": {},
     "output_type": "execute_result"
    }
   ],
   "source": [
    "df.index[0]"
   ]
  },
  {
   "cell_type": "code",
   "execution_count": 85,
   "metadata": {
    "collapsed": false
   },
   "outputs": [
    {
     "data": {
      "text/plain": [
       "76876.0"
      ]
     },
     "execution_count": 85,
     "metadata": {},
     "output_type": "execute_result"
    }
   ],
   "source": [
    "df.iloc[1].sum()"
   ]
  },
  {
   "cell_type": "code",
   "execution_count": 64,
   "metadata": {
    "collapsed": false,
    "scrolled": true
   },
   "outputs": [
    {
     "data": {
      "text/html": [
       "\n",
       "           <script>\n",
       "               \n",
       "                function vct_load_lib(url, callback){\n",
       "                      if(typeof d3 !== 'undefined' &&\n",
       "                         url === 'http://d3js.org/d3.v3.min.js'){\n",
       "                        callback()\n",
       "                      }\n",
       "                      var s = document.createElement('script');\n",
       "                      s.src = url;\n",
       "                      s.async = true;\n",
       "                      s.onreadystatechange = s.onload = callback;\n",
       "                      s.onerror = function(){\n",
       "                        console.warn(\"failed to load library \" + url);\n",
       "                        };\n",
       "                      document.getElementsByTagName(\"head\")[0].appendChild(s);\n",
       "                };\n",
       "                var vincent_event = new CustomEvent(\n",
       "                  \"vincent_libs_loaded\",\n",
       "                  {bubbles: true, cancelable: true}\n",
       "                );\n",
       "                \n",
       "               function load_all_libs(){\n",
       "                  console.log('Loading Vincent libs...')\n",
       "                  vct_load_lib('http://d3js.org/d3.v3.min.js', function(){\n",
       "                  vct_load_lib('http://d3js.org/d3.geo.projection.v0.min.js', function(){\n",
       "                  vct_load_lib('http://wrobstory.github.io/d3-cloud/d3.layout.cloud.js', function(){\n",
       "                  vct_load_lib('http://wrobstory.github.io/vega/vega.v1.3.3.js', function(){\n",
       "                  window.dispatchEvent(vincent_event);\n",
       "                  });\n",
       "                  });\n",
       "                  });\n",
       "                  });\n",
       "               };\n",
       "               if(typeof define === \"function\" && define.amd){\n",
       "                    if (window['d3'] === undefined ||\n",
       "                        window['topojson'] === undefined){\n",
       "                        require.config(\n",
       "                            {paths: {\n",
       "                              d3: 'http://d3js.org/d3.v3.min',\n",
       "                              topojson: 'http://d3js.org/topojson.v1.min'\n",
       "                              }\n",
       "                            }\n",
       "                          );\n",
       "                        require([\"d3\"], function(d3){\n",
       "                            console.log('Loading Vincent from require.js...')\n",
       "                            window.d3 = d3;\n",
       "                            require([\"topojson\"], function(topojson){\n",
       "                                window.topojson = topojson;\n",
       "                                load_all_libs();\n",
       "                            });\n",
       "                        });\n",
       "                    } else {\n",
       "                        load_all_libs();\n",
       "                    };\n",
       "               }else{\n",
       "                    console.log('Require.js not found, loading manually...')\n",
       "                    load_all_libs();\n",
       "               };\n",
       "\n",
       "           </script>"
      ],
      "text/plain": [
       "<IPython.core.display.HTML object>"
      ]
     },
     "metadata": {},
     "output_type": "display_data"
    },
    {
     "data": {
      "text/html": [
       "<div id=\"visb405fc41f3114e3fb935da1d4b7e099a\"></div>\n",
       "<script>\n",
       "   ( function() {\n",
       "     var _do_plot = function() {\n",
       "       if (typeof vg === 'undefined') {\n",
       "         window.addEventListener('vincent_libs_loaded', _do_plot)\n",
       "         return;\n",
       "       }\n",
       "       vg.parse.spec({\"axes\": [{\"scale\": \"x\", \"type\": \"x\"}, {\"scale\": \"y\", \"type\": \"y\"}], \"data\": [{\"name\": \"table\", \"values\": [{\"col\": \"BAYVIEW\", \"idx\": \"ARSON\", \"val\": 393.0}, {\"col\": \"CENTRAL\", \"idx\": \"ARSON\", \"val\": NaN}, {\"col\": \"INGLESIDE\", \"idx\": \"ARSON\", \"val\": NaN}, {\"col\": \"MISSION\", \"idx\": \"ARSON\", \"val\": NaN}, {\"col\": \"NORTHERN\", \"idx\": \"ARSON\", \"val\": NaN}, {\"col\": \"PARK\", \"idx\": \"ARSON\", \"val\": NaN}, {\"col\": \"RICHMOND\", \"idx\": \"ARSON\", \"val\": NaN}, {\"col\": \"SOUTHERN\", \"idx\": \"ARSON\", \"val\": NaN}, {\"col\": \"TARAVAL\", \"idx\": \"ARSON\", \"val\": NaN}, {\"col\": \"TENDERLOIN\", \"idx\": \"ARSON\", \"val\": NaN}, {\"col\": \"BAYVIEW\", \"idx\": \"ASSAULT\", \"val\": 9857.0}, {\"col\": \"CENTRAL\", \"idx\": \"ASSAULT\", \"val\": 6977.0}, {\"col\": \"INGLESIDE\", \"idx\": \"ASSAULT\", \"val\": 8533.0}, {\"col\": \"MISSION\", \"idx\": \"ASSAULT\", \"val\": 11149.0}, {\"col\": \"NORTHERN\", \"idx\": \"ASSAULT\", \"val\": 8318.0}, {\"col\": \"PARK\", \"idx\": \"ASSAULT\", \"val\": 3515.0}, {\"col\": \"RICHMOND\", \"idx\": \"ASSAULT\", \"val\": 3202.0}, {\"col\": \"SOUTHERN\", \"idx\": \"ASSAULT\", \"val\": 12183.0}, {\"col\": \"TARAVAL\", \"idx\": \"ASSAULT\", \"val\": 5463.0}, {\"col\": \"TENDERLOIN\", \"idx\": \"ASSAULT\", \"val\": 7679.0}, {\"col\": \"BAYVIEW\", \"idx\": \"BAD CHECKS\", \"val\": 34.0}, {\"col\": \"CENTRAL\", \"idx\": \"BAD CHECKS\", \"val\": 65.0}, {\"col\": \"INGLESIDE\", \"idx\": \"BAD CHECKS\", \"val\": 32.0}, {\"col\": \"MISSION\", \"idx\": \"BAD CHECKS\", \"val\": 46.0}, {\"col\": \"NORTHERN\", \"idx\": \"BAD CHECKS\", \"val\": 54.0}, {\"col\": \"PARK\", \"idx\": \"BAD CHECKS\", \"val\": 15.0}, {\"col\": \"RICHMOND\", \"idx\": \"BAD CHECKS\", \"val\": 31.0}, {\"col\": \"SOUTHERN\", \"idx\": \"BAD CHECKS\", \"val\": 74.0}, {\"col\": \"TARAVAL\", \"idx\": \"BAD CHECKS\", \"val\": 36.0}, {\"col\": \"TENDERLOIN\", \"idx\": \"BAD CHECKS\", \"val\": 19.0}, {\"col\": \"BAYVIEW\", \"idx\": \"BRIBERY\", \"val\": 56.0}, {\"col\": \"CENTRAL\", \"idx\": \"BRIBERY\", \"val\": 12.0}, {\"col\": \"INGLESIDE\", \"idx\": \"BRIBERY\", \"val\": 53.0}, {\"col\": \"MISSION\", \"idx\": \"BRIBERY\", \"val\": 66.0}, {\"col\": \"NORTHERN\", \"idx\": \"BRIBERY\", \"val\": 18.0}, {\"col\": \"PARK\", \"idx\": \"BRIBERY\", \"val\": 7.0}, {\"col\": \"RICHMOND\", \"idx\": \"BRIBERY\", \"val\": 8.0}, {\"col\": \"SOUTHERN\", \"idx\": \"BRIBERY\", \"val\": 37.0}, {\"col\": \"TARAVAL\", \"idx\": \"BRIBERY\", \"val\": 17.0}, {\"col\": \"TENDERLOIN\", \"idx\": \"BRIBERY\", \"val\": 15.0}, {\"col\": \"BAYVIEW\", \"idx\": \"BURGLARY\", \"val\": 3930.0}, {\"col\": \"CENTRAL\", \"idx\": \"BURGLARY\", \"val\": 4519.0}, {\"col\": \"INGLESIDE\", \"idx\": \"BURGLARY\", \"val\": 3331.0}, {\"col\": \"MISSION\", \"idx\": \"BURGLARY\", \"val\": 3745.0}, {\"col\": \"NORTHERN\", \"idx\": \"BURGLARY\", \"val\": 5854.0}, {\"col\": \"PARK\", \"idx\": \"BURGLARY\", \"val\": 2888.0}, {\"col\": \"RICHMOND\", \"idx\": \"BURGLARY\", \"val\": 2696.0}, {\"col\": \"SOUTHERN\", \"idx\": \"BURGLARY\", \"val\": 4841.0}, {\"col\": \"TARAVAL\", \"idx\": \"BURGLARY\", \"val\": 3463.0}, {\"col\": \"TENDERLOIN\", \"idx\": \"BURGLARY\", \"val\": 1488.0}, {\"col\": \"BAYVIEW\", \"idx\": \"DISORDERLY CONDUCT\", \"val\": 219.0}, {\"col\": \"CENTRAL\", \"idx\": \"DISORDERLY CONDUCT\", \"val\": 494.0}, {\"col\": \"INGLESIDE\", \"idx\": \"DISORDERLY CONDUCT\", \"val\": 171.0}, {\"col\": \"MISSION\", \"idx\": \"DISORDERLY CONDUCT\", \"val\": 1099.0}, {\"col\": \"NORTHERN\", \"idx\": \"DISORDERLY CONDUCT\", \"val\": 452.0}, {\"col\": \"PARK\", \"idx\": \"DISORDERLY CONDUCT\", \"val\": 271.0}, {\"col\": \"RICHMOND\", \"idx\": \"DISORDERLY CONDUCT\", \"val\": 108.0}, {\"col\": \"SOUTHERN\", \"idx\": \"DISORDERLY CONDUCT\", \"val\": 511.0}, {\"col\": \"TARAVAL\", \"idx\": \"DISORDERLY CONDUCT\", \"val\": 162.0}, {\"col\": \"TENDERLOIN\", \"idx\": \"DISORDERLY CONDUCT\", \"val\": 833.0}, {\"col\": \"BAYVIEW\", \"idx\": \"DRIVING UNDER THE INFLUENCE\", \"val\": 179.0}, {\"col\": \"CENTRAL\", \"idx\": \"DRIVING UNDER THE INFLUENCE\", \"val\": 160.0}, {\"col\": \"INGLESIDE\", \"idx\": \"DRIVING UNDER THE INFLUENCE\", \"val\": 206.0}, {\"col\": \"MISSION\", \"idx\": \"DRIVING UNDER THE INFLUENCE\", \"val\": 357.0}, {\"col\": \"NORTHERN\", \"idx\": \"DRIVING UNDER THE INFLUENCE\", \"val\": 260.0}, {\"col\": \"PARK\", \"idx\": \"DRIVING UNDER THE INFLUENCE\", \"val\": 176.0}, {\"col\": \"RICHMOND\", \"idx\": \"DRIVING UNDER THE INFLUENCE\", \"val\": 319.0}, {\"col\": \"SOUTHERN\", \"idx\": \"DRIVING UNDER THE INFLUENCE\", \"val\": 306.0}, {\"col\": \"TARAVAL\", \"idx\": \"DRIVING UNDER THE INFLUENCE\", \"val\": 202.0}, {\"col\": \"TENDERLOIN\", \"idx\": \"DRIVING UNDER THE INFLUENCE\", \"val\": 103.0}, {\"col\": \"BAYVIEW\", \"idx\": \"DRUG/NARCOTIC\", \"val\": 4498.0}, {\"col\": \"CENTRAL\", \"idx\": \"DRUG/NARCOTIC\", \"val\": 1805.0}, {\"col\": \"INGLESIDE\", \"idx\": \"DRUG/NARCOTIC\", \"val\": 2373.0}, {\"col\": \"MISSION\", \"idx\": \"DRUG/NARCOTIC\", \"val\": 8757.0}, {\"col\": \"NORTHERN\", \"idx\": \"DRUG/NARCOTIC\", \"val\": 4511.0}, {\"col\": \"PARK\", \"idx\": \"DRUG/NARCOTIC\", \"val\": 2573.0}, {\"col\": \"RICHMOND\", \"idx\": \"DRUG/NARCOTIC\", \"val\": 999.0}, {\"col\": \"SOUTHERN\", \"idx\": \"DRUG/NARCOTIC\", \"val\": 9228.0}, {\"col\": \"TARAVAL\", \"idx\": \"DRUG/NARCOTIC\", \"val\": 1531.0}, {\"col\": \"TENDERLOIN\", \"idx\": \"DRUG/NARCOTIC\", \"val\": 17696.0}, {\"col\": \"BAYVIEW\", \"idx\": \"DRUNKENNESS\", \"val\": 243.0}, {\"col\": \"CENTRAL\", \"idx\": \"DRUNKENNESS\", \"val\": 517.0}, {\"col\": \"INGLESIDE\", \"idx\": \"DRUNKENNESS\", \"val\": 190.0}, {\"col\": \"MISSION\", \"idx\": \"DRUNKENNESS\", \"val\": 782.0}, {\"col\": \"NORTHERN\", \"idx\": \"DRUNKENNESS\", \"val\": 368.0}, {\"col\": \"PARK\", \"idx\": \"DRUNKENNESS\", \"val\": 374.0}, {\"col\": \"RICHMOND\", \"idx\": \"DRUNKENNESS\", \"val\": 149.0}, {\"col\": \"SOUTHERN\", \"idx\": \"DRUNKENNESS\", \"val\": 959.0}, {\"col\": \"TARAVAL\", \"idx\": \"DRUNKENNESS\", \"val\": 259.0}, {\"col\": \"TENDERLOIN\", \"idx\": \"DRUNKENNESS\", \"val\": 439.0}, {\"col\": \"BAYVIEW\", \"idx\": \"EMBEZZLEMENT\", \"val\": 100.0}, {\"col\": \"CENTRAL\", \"idx\": \"EMBEZZLEMENT\", \"val\": 180.0}, {\"col\": \"INGLESIDE\", \"idx\": \"EMBEZZLEMENT\", \"val\": 78.0}, {\"col\": \"MISSION\", \"idx\": \"EMBEZZLEMENT\", \"val\": 124.0}, {\"col\": \"NORTHERN\", \"idx\": \"EMBEZZLEMENT\", \"val\": 131.0}, {\"col\": \"PARK\", \"idx\": \"EMBEZZLEMENT\", \"val\": 50.0}, {\"col\": \"RICHMOND\", \"idx\": \"EMBEZZLEMENT\", \"val\": 43.0}, {\"col\": \"SOUTHERN\", \"idx\": \"EMBEZZLEMENT\", \"val\": 275.0}, {\"col\": \"TARAVAL\", \"idx\": \"EMBEZZLEMENT\", \"val\": 94.0}, {\"col\": \"TENDERLOIN\", \"idx\": \"EMBEZZLEMENT\", \"val\": 91.0}, {\"col\": \"BAYVIEW\", \"idx\": \"EXTORTION\", \"val\": 13.0}, {\"col\": \"CENTRAL\", \"idx\": \"EXTORTION\", \"val\": 51.0}, {\"col\": \"INGLESIDE\", \"idx\": \"EXTORTION\", \"val\": 29.0}, {\"col\": \"MISSION\", \"idx\": \"EXTORTION\", \"val\": 26.0}, {\"col\": \"NORTHERN\", \"idx\": \"EXTORTION\", \"val\": 24.0}, {\"col\": \"PARK\", \"idx\": \"EXTORTION\", \"val\": 8.0}, {\"col\": \"RICHMOND\", \"idx\": \"EXTORTION\", \"val\": 23.0}, {\"col\": \"SOUTHERN\", \"idx\": \"EXTORTION\", \"val\": 38.0}, {\"col\": \"TARAVAL\", \"idx\": \"EXTORTION\", \"val\": 36.0}, {\"col\": \"TENDERLOIN\", \"idx\": \"EXTORTION\", \"val\": 8.0}, {\"col\": \"BAYVIEW\", \"idx\": \"FAMILY OFFENSES\", \"val\": 73.0}, {\"col\": \"CENTRAL\", \"idx\": \"FAMILY OFFENSES\", \"val\": 28.0}, {\"col\": \"INGLESIDE\", \"idx\": \"FAMILY OFFENSES\", \"val\": 71.0}, {\"col\": \"MISSION\", \"idx\": \"FAMILY OFFENSES\", \"val\": 142.0}, {\"col\": \"NORTHERN\", \"idx\": \"FAMILY OFFENSES\", \"val\": 12.0}, {\"col\": \"PARK\", \"idx\": \"FAMILY OFFENSES\", \"val\": 26.0}, {\"col\": \"RICHMOND\", \"idx\": \"FAMILY OFFENSES\", \"val\": 23.0}, {\"col\": \"SOUTHERN\", \"idx\": \"FAMILY OFFENSES\", \"val\": 42.0}, {\"col\": \"TARAVAL\", \"idx\": \"FAMILY OFFENSES\", \"val\": 35.0}, {\"col\": \"TENDERLOIN\", \"idx\": \"FAMILY OFFENSES\", \"val\": 39.0}, {\"col\": \"BAYVIEW\", \"idx\": \"FORGERY/COUNTERFEITING\", \"val\": 774.0}, {\"col\": \"CENTRAL\", \"idx\": \"FORGERY/COUNTERFEITING\", \"val\": 1144.0}, {\"col\": \"INGLESIDE\", \"idx\": \"FORGERY/COUNTERFEITING\", \"val\": 977.0}, {\"col\": \"MISSION\", \"idx\": \"FORGERY/COUNTERFEITING\", \"val\": 1281.0}, {\"col\": \"NORTHERN\", \"idx\": \"FORGERY/COUNTERFEITING\", \"val\": 1292.0}, {\"col\": \"PARK\", \"idx\": \"FORGERY/COUNTERFEITING\", \"val\": 518.0}, {\"col\": \"RICHMOND\", \"idx\": \"FORGERY/COUNTERFEITING\", \"val\": 619.0}, {\"col\": \"SOUTHERN\", \"idx\": \"FORGERY/COUNTERFEITING\", \"val\": 2345.0}, {\"col\": \"TARAVAL\", \"idx\": \"FORGERY/COUNTERFEITING\", \"val\": 1097.0}, {\"col\": \"TENDERLOIN\", \"idx\": \"FORGERY/COUNTERFEITING\", \"val\": 562.0}, {\"col\": \"BAYVIEW\", \"idx\": \"FRAUD\", \"val\": 866.0}, {\"col\": \"CENTRAL\", \"idx\": \"FRAUD\", \"val\": 2344.0}, {\"col\": \"INGLESIDE\", \"idx\": \"FRAUD\", \"val\": 1213.0}, {\"col\": \"MISSION\", \"idx\": \"FRAUD\", \"val\": 1970.0}, {\"col\": \"NORTHERN\", \"idx\": \"FRAUD\", \"val\": 2055.0}, {\"col\": \"PARK\", \"idx\": \"FRAUD\", \"val\": 974.0}, {\"col\": \"RICHMOND\", \"idx\": \"FRAUD\", \"val\": 1137.0}, {\"col\": \"SOUTHERN\", \"idx\": \"FRAUD\", \"val\": 3441.0}, {\"col\": \"TARAVAL\", \"idx\": \"FRAUD\", \"val\": 1549.0}, {\"col\": \"TENDERLOIN\", \"idx\": \"FRAUD\", \"val\": 1130.0}, {\"col\": \"BAYVIEW\", \"idx\": \"GAMBLING\", \"val\": 29.0}, {\"col\": \"CENTRAL\", \"idx\": \"GAMBLING\", \"val\": 31.0}, {\"col\": \"INGLESIDE\", \"idx\": \"GAMBLING\", \"val\": 16.0}, {\"col\": \"MISSION\", \"idx\": \"GAMBLING\", \"val\": 18.0}, {\"col\": \"NORTHERN\", \"idx\": \"GAMBLING\", \"val\": 10.0}, {\"col\": \"PARK\", \"idx\": \"GAMBLING\", \"val\": 1.0}, {\"col\": \"RICHMOND\", \"idx\": \"GAMBLING\", \"val\": 4.0}, {\"col\": \"SOUTHERN\", \"idx\": \"GAMBLING\", \"val\": 17.0}, {\"col\": \"TARAVAL\", \"idx\": \"GAMBLING\", \"val\": 8.0}, {\"col\": \"TENDERLOIN\", \"idx\": \"GAMBLING\", \"val\": 12.0}, {\"col\": \"BAYVIEW\", \"idx\": \"KIDNAPPING\", \"val\": 313.0}, {\"col\": \"CENTRAL\", \"idx\": \"KIDNAPPING\", \"val\": 197.0}, {\"col\": \"INGLESIDE\", \"idx\": \"KIDNAPPING\", \"val\": 348.0}, {\"col\": \"MISSION\", \"idx\": \"KIDNAPPING\", \"val\": 312.0}, {\"col\": \"NORTHERN\", \"idx\": \"KIDNAPPING\", \"val\": 231.0}, {\"col\": \"PARK\", \"idx\": \"KIDNAPPING\", \"val\": 94.0}, {\"col\": \"RICHMOND\", \"idx\": \"KIDNAPPING\", \"val\": 104.0}, {\"col\": \"SOUTHERN\", \"idx\": \"KIDNAPPING\", \"val\": 340.0}, {\"col\": \"TARAVAL\", \"idx\": \"KIDNAPPING\", \"val\": 191.0}, {\"col\": \"TENDERLOIN\", \"idx\": \"KIDNAPPING\", \"val\": 211.0}, {\"col\": \"BAYVIEW\", \"idx\": \"LARCENY/THEFT\", \"val\": 10119.0}, {\"col\": \"CENTRAL\", \"idx\": \"LARCENY/THEFT\", \"val\": 25060.0}, {\"col\": \"INGLESIDE\", \"idx\": \"LARCENY/THEFT\", \"val\": 10236.0}, {\"col\": \"MISSION\", \"idx\": \"LARCENY/THEFT\", \"val\": 18223.0}, {\"col\": \"NORTHERN\", \"idx\": \"LARCENY/THEFT\", \"val\": 28630.0}, {\"col\": \"PARK\", \"idx\": \"LARCENY/THEFT\", \"val\": 9146.0}, {\"col\": \"RICHMOND\", \"idx\": \"LARCENY/THEFT\", \"val\": 9893.0}, {\"col\": \"SOUTHERN\", \"idx\": \"LARCENY/THEFT\", \"val\": 41845.0}, {\"col\": \"TARAVAL\", \"idx\": \"LARCENY/THEFT\", \"val\": 11845.0}, {\"col\": \"TENDERLOIN\", \"idx\": \"LARCENY/THEFT\", \"val\": 9903.0}, {\"col\": \"BAYVIEW\", \"idx\": \"LIQUOR LAWS\", \"val\": 114.0}, {\"col\": \"CENTRAL\", \"idx\": \"LIQUOR LAWS\", \"val\": 141.0}, {\"col\": \"INGLESIDE\", \"idx\": \"LIQUOR LAWS\", \"val\": 106.0}, {\"col\": \"MISSION\", \"idx\": \"LIQUOR LAWS\", \"val\": 495.0}, {\"col\": \"NORTHERN\", \"idx\": \"LIQUOR LAWS\", \"val\": 124.0}, {\"col\": \"PARK\", \"idx\": \"LIQUOR LAWS\", \"val\": 149.0}, {\"col\": \"RICHMOND\", \"idx\": \"LIQUOR LAWS\", \"val\": 81.0}, {\"col\": \"SOUTHERN\", \"idx\": \"LIQUOR LAWS\", \"val\": 385.0}, {\"col\": \"TARAVAL\", \"idx\": \"LIQUOR LAWS\", \"val\": 122.0}, {\"col\": \"TENDERLOIN\", \"idx\": \"LIQUOR LAWS\", \"val\": 186.0}, {\"col\": \"BAYVIEW\", \"idx\": \"LOITERING\", \"val\": 50.0}, {\"col\": \"CENTRAL\", \"idx\": \"LOITERING\", \"val\": 70.0}, {\"col\": \"INGLESIDE\", \"idx\": \"LOITERING\", \"val\": 26.0}, {\"col\": \"MISSION\", \"idx\": \"LOITERING\", \"val\": 191.0}, {\"col\": \"NORTHERN\", \"idx\": \"LOITERING\", \"val\": 193.0}, {\"col\": \"PARK\", \"idx\": \"LOITERING\", \"val\": 23.0}, {\"col\": \"RICHMOND\", \"idx\": \"LOITERING\", \"val\": 8.0}, {\"col\": \"SOUTHERN\", \"idx\": \"LOITERING\", \"val\": 429.0}, {\"col\": \"TARAVAL\", \"idx\": \"LOITERING\", \"val\": 34.0}, {\"col\": \"TENDERLOIN\", \"idx\": \"LOITERING\", \"val\": 201.0}, {\"col\": \"BAYVIEW\", \"idx\": \"MISSING PERSON\", \"val\": 5038.0}, {\"col\": \"CENTRAL\", \"idx\": \"MISSING PERSON\", \"val\": 1348.0}, {\"col\": \"INGLESIDE\", \"idx\": \"MISSING PERSON\", \"val\": 3181.0}, {\"col\": \"MISSION\", \"idx\": \"MISSING PERSON\", \"val\": 3283.0}, {\"col\": \"NORTHERN\", \"idx\": \"MISSING PERSON\", \"val\": 1956.0}, {\"col\": \"PARK\", \"idx\": \"MISSING PERSON\", \"val\": 2713.0}, {\"col\": \"RICHMOND\", \"idx\": \"MISSING PERSON\", \"val\": 1183.0}, {\"col\": \"SOUTHERN\", \"idx\": \"MISSING PERSON\", \"val\": 3064.0}, {\"col\": \"TARAVAL\", \"idx\": \"MISSING PERSON\", \"val\": 3390.0}, {\"col\": \"TENDERLOIN\", \"idx\": \"MISSING PERSON\", \"val\": 833.0}, {\"col\": \"BAYVIEW\", \"idx\": \"NON-CRIMINAL\", \"val\": 6099.0}, {\"col\": \"CENTRAL\", \"idx\": \"NON-CRIMINAL\", \"val\": 10940.0}, {\"col\": \"INGLESIDE\", \"idx\": \"NON-CRIMINAL\", \"val\": 6853.0}, {\"col\": \"MISSION\", \"idx\": \"NON-CRIMINAL\", \"val\": 12372.0}, {\"col\": \"NORTHERN\", \"idx\": \"NON-CRIMINAL\", \"val\": 10240.0}, {\"col\": \"PARK\", \"idx\": \"NON-CRIMINAL\", \"val\": 5925.0}, {\"col\": \"RICHMOND\", \"idx\": \"NON-CRIMINAL\", \"val\": 5744.0}, {\"col\": \"SOUTHERN\", \"idx\": \"NON-CRIMINAL\", \"val\": 19745.0}, {\"col\": \"TARAVAL\", \"idx\": \"NON-CRIMINAL\", \"val\": 6919.0}, {\"col\": \"TENDERLOIN\", \"idx\": \"NON-CRIMINAL\", \"val\": 7467.0}, {\"col\": \"BAYVIEW\", \"idx\": \"OTHER OFFENSES\", \"val\": 17053.0}, {\"col\": \"CENTRAL\", \"idx\": \"OTHER OFFENSES\", \"val\": 8901.0}, {\"col\": \"INGLESIDE\", \"idx\": \"OTHER OFFENSES\", \"val\": 13203.0}, {\"col\": \"MISSION\", \"idx\": \"OTHER OFFENSES\", \"val\": 19330.0}, {\"col\": \"NORTHERN\", \"idx\": \"OTHER OFFENSES\", \"val\": 12233.0}, {\"col\": \"PARK\", \"idx\": \"OTHER OFFENSES\", \"val\": 6184.0}, {\"col\": \"RICHMOND\", \"idx\": \"OTHER OFFENSES\", \"val\": 5632.0}, {\"col\": \"SOUTHERN\", \"idx\": \"OTHER OFFENSES\", \"val\": 21308.0}, {\"col\": \"TARAVAL\", \"idx\": \"OTHER OFFENSES\", \"val\": 8614.0}, {\"col\": \"TENDERLOIN\", \"idx\": \"OTHER OFFENSES\", \"val\": 13724.0}, {\"col\": \"BAYVIEW\", \"idx\": \"PORNOGRAPHY/OBSCENE MAT\", \"val\": 2.0}, {\"col\": \"CENTRAL\", \"idx\": \"PORNOGRAPHY/OBSCENE MAT\", \"val\": 2.0}, {\"col\": \"INGLESIDE\", \"idx\": \"PORNOGRAPHY/OBSCENE MAT\", \"val\": NaN}, {\"col\": \"MISSION\", \"idx\": \"PORNOGRAPHY/OBSCENE MAT\", \"val\": 3.0}, {\"col\": \"NORTHERN\", \"idx\": \"PORNOGRAPHY/OBSCENE MAT\", \"val\": 5.0}, {\"col\": \"PARK\", \"idx\": \"PORNOGRAPHY/OBSCENE MAT\", \"val\": NaN}, {\"col\": \"RICHMOND\", \"idx\": \"PORNOGRAPHY/OBSCENE MAT\", \"val\": 1.0}, {\"col\": \"SOUTHERN\", \"idx\": \"PORNOGRAPHY/OBSCENE MAT\", \"val\": 4.0}, {\"col\": \"TARAVAL\", \"idx\": \"PORNOGRAPHY/OBSCENE MAT\", \"val\": 4.0}, {\"col\": \"TENDERLOIN\", \"idx\": \"PORNOGRAPHY/OBSCENE MAT\", \"val\": 1.0}, {\"col\": \"BAYVIEW\", \"idx\": \"PROSTITUTION\", \"val\": 70.0}, {\"col\": \"CENTRAL\", \"idx\": \"PROSTITUTION\", \"val\": 778.0}, {\"col\": \"INGLESIDE\", \"idx\": \"PROSTITUTION\", \"val\": 26.0}, {\"col\": \"MISSION\", \"idx\": \"PROSTITUTION\", \"val\": 3629.0}, {\"col\": \"NORTHERN\", \"idx\": \"PROSTITUTION\", \"val\": 1831.0}, {\"col\": \"PARK\", \"idx\": \"PROSTITUTION\", \"val\": 5.0}, {\"col\": \"RICHMOND\", \"idx\": \"PROSTITUTION\", \"val\": 24.0}, {\"col\": \"SOUTHERN\", \"idx\": \"PROSTITUTION\", \"val\": 135.0}, {\"col\": \"TARAVAL\", \"idx\": \"PROSTITUTION\", \"val\": 82.0}, {\"col\": \"TENDERLOIN\", \"idx\": \"PROSTITUTION\", \"val\": 904.0}, {\"col\": \"BAYVIEW\", \"idx\": \"RECOVERED VEHICLE\", \"val\": 735.0}, {\"col\": \"CENTRAL\", \"idx\": \"RECOVERED VEHICLE\", \"val\": 178.0}, {\"col\": \"INGLESIDE\", \"idx\": \"RECOVERED VEHICLE\", \"val\": 662.0}, {\"col\": \"MISSION\", \"idx\": \"RECOVERED VEHICLE\", \"val\": 325.0}, {\"col\": \"NORTHERN\", \"idx\": \"RECOVERED VEHICLE\", \"val\": 273.0}, {\"col\": \"PARK\", \"idx\": \"RECOVERED VEHICLE\", \"val\": 117.0}, {\"col\": \"RICHMOND\", \"idx\": \"RECOVERED VEHICLE\", \"val\": 125.0}, {\"col\": \"SOUTHERN\", \"idx\": \"RECOVERED VEHICLE\", \"val\": 326.0}, {\"col\": \"TARAVAL\", \"idx\": \"RECOVERED VEHICLE\", \"val\": 262.0}, {\"col\": \"TENDERLOIN\", \"idx\": \"RECOVERED VEHICLE\", \"val\": 135.0}, {\"col\": \"BAYVIEW\", \"idx\": \"ROBBERY\", \"val\": 2715.0}, {\"col\": \"CENTRAL\", \"idx\": \"ROBBERY\", \"val\": 1999.0}, {\"col\": \"INGLESIDE\", \"idx\": \"ROBBERY\", \"val\": 2788.0}, {\"col\": \"MISSION\", \"idx\": \"ROBBERY\", \"val\": 3629.0}, {\"col\": \"NORTHERN\", \"idx\": \"ROBBERY\", \"val\": 2640.0}, {\"col\": \"PARK\", \"idx\": \"ROBBERY\", \"val\": 957.0}, {\"col\": \"RICHMOND\", \"idx\": \"ROBBERY\", \"val\": 787.0}, {\"col\": \"SOUTHERN\", \"idx\": \"ROBBERY\", \"val\": 3878.0}, {\"col\": \"TARAVAL\", \"idx\": \"ROBBERY\", \"val\": 1405.0}, {\"col\": \"TENDERLOIN\", \"idx\": \"ROBBERY\", \"val\": 2202.0}, {\"col\": \"BAYVIEW\", \"idx\": \"RUNAWAY\", \"val\": 265.0}, {\"col\": \"CENTRAL\", \"idx\": \"RUNAWAY\", \"val\": 43.0}, {\"col\": \"INGLESIDE\", \"idx\": \"RUNAWAY\", \"val\": 148.0}, {\"col\": \"MISSION\", \"idx\": \"RUNAWAY\", \"val\": 298.0}, {\"col\": \"NORTHERN\", \"idx\": \"RUNAWAY\", \"val\": 88.0}, {\"col\": \"PARK\", \"idx\": \"RUNAWAY\", \"val\": 485.0}, {\"col\": \"RICHMOND\", \"idx\": \"RUNAWAY\", \"val\": 94.0}, {\"col\": \"SOUTHERN\", \"idx\": \"RUNAWAY\", \"val\": 108.0}, {\"col\": \"TARAVAL\", \"idx\": \"RUNAWAY\", \"val\": 408.0}, {\"col\": \"TENDERLOIN\", \"idx\": \"RUNAWAY\", \"val\": 9.0}, {\"col\": \"BAYVIEW\", \"idx\": \"SECONDARY CODES\", \"val\": 1662.0}, {\"col\": \"CENTRAL\", \"idx\": \"SECONDARY CODES\", \"val\": 704.0}, {\"col\": \"INGLESIDE\", \"idx\": \"SECONDARY CODES\", \"val\": 1300.0}, {\"col\": \"MISSION\", \"idx\": \"SECONDARY CODES\", \"val\": 1439.0}, {\"col\": \"NORTHERN\", \"idx\": \"SECONDARY CODES\", \"val\": 999.0}, {\"col\": \"PARK\", \"idx\": \"SECONDARY CODES\", \"val\": 444.0}, {\"col\": \"RICHMOND\", \"idx\": \"SECONDARY CODES\", \"val\": 525.0}, {\"col\": \"SOUTHERN\", \"idx\": \"SECONDARY CODES\", \"val\": 1205.0}, {\"col\": \"TARAVAL\", \"idx\": \"SECONDARY CODES\", \"val\": 983.0}, {\"col\": \"TENDERLOIN\", \"idx\": \"SECONDARY CODES\", \"val\": 724.0}, {\"col\": \"BAYVIEW\", \"idx\": \"SEX OFFENSES FORCIBLE\", \"val\": 387.0}, {\"col\": \"CENTRAL\", \"idx\": \"SEX OFFENSES FORCIBLE\", \"val\": 394.0}, {\"col\": \"INGLESIDE\", \"idx\": \"SEX OFFENSES FORCIBLE\", \"val\": 504.0}, {\"col\": \"MISSION\", \"idx\": \"SEX OFFENSES FORCIBLE\", \"val\": 718.0}, {\"col\": \"NORTHERN\", \"idx\": \"SEX OFFENSES FORCIBLE\", \"val\": 435.0}, {\"col\": \"PARK\", \"idx\": \"SEX OFFENSES FORCIBLE\", \"val\": 212.0}, {\"col\": \"RICHMOND\", \"idx\": \"SEX OFFENSES FORCIBLE\", \"val\": 216.0}, {\"col\": \"SOUTHERN\", \"idx\": \"SEX OFFENSES FORCIBLE\", \"val\": 819.0}, {\"col\": \"TARAVAL\", \"idx\": \"SEX OFFENSES FORCIBLE\", \"val\": 383.0}, {\"col\": \"TENDERLOIN\", \"idx\": \"SEX OFFENSES FORCIBLE\", \"val\": 320.0}, {\"col\": \"BAYVIEW\", \"idx\": \"SEX OFFENSES NON FORCIBLE\", \"val\": 22.0}, {\"col\": \"CENTRAL\", \"idx\": \"SEX OFFENSES NON FORCIBLE\", \"val\": 7.0}, {\"col\": \"INGLESIDE\", \"idx\": \"SEX OFFENSES NON FORCIBLE\", \"val\": 22.0}, {\"col\": \"MISSION\", \"idx\": \"SEX OFFENSES NON FORCIBLE\", \"val\": 35.0}, {\"col\": \"NORTHERN\", \"idx\": \"SEX OFFENSES NON FORCIBLE\", \"val\": 9.0}, {\"col\": \"PARK\", \"idx\": \"SEX OFFENSES NON FORCIBLE\", \"val\": 6.0}, {\"col\": \"RICHMOND\", \"idx\": \"SEX OFFENSES NON FORCIBLE\", \"val\": 10.0}, {\"col\": \"SOUTHERN\", \"idx\": \"SEX OFFENSES NON FORCIBLE\", \"val\": 17.0}, {\"col\": \"TARAVAL\", \"idx\": \"SEX OFFENSES NON FORCIBLE\", \"val\": 15.0}, {\"col\": \"TENDERLOIN\", \"idx\": \"SEX OFFENSES NON FORCIBLE\", \"val\": 5.0}, {\"col\": \"BAYVIEW\", \"idx\": \"STOLEN PROPERTY\", \"val\": 397.0}, {\"col\": \"CENTRAL\", \"idx\": \"STOLEN PROPERTY\", \"val\": 510.0}, {\"col\": \"INGLESIDE\", \"idx\": \"STOLEN PROPERTY\", \"val\": 347.0}, {\"col\": \"MISSION\", \"idx\": \"STOLEN PROPERTY\", \"val\": 631.0}, {\"col\": \"NORTHERN\", \"idx\": \"STOLEN PROPERTY\", \"val\": 700.0}, {\"col\": \"PARK\", \"idx\": \"STOLEN PROPERTY\", \"val\": 175.0}, {\"col\": \"RICHMOND\", \"idx\": \"STOLEN PROPERTY\", \"val\": 206.0}, {\"col\": \"SOUTHERN\", \"idx\": \"STOLEN PROPERTY\", \"val\": 1007.0}, {\"col\": \"TARAVAL\", \"idx\": \"STOLEN PROPERTY\", \"val\": 231.0}, {\"col\": \"TENDERLOIN\", \"idx\": \"STOLEN PROPERTY\", \"val\": 336.0}, {\"col\": \"BAYVIEW\", \"idx\": \"SUICIDE\", \"val\": 37.0}, {\"col\": \"CENTRAL\", \"idx\": \"SUICIDE\", \"val\": 60.0}, {\"col\": \"INGLESIDE\", \"idx\": \"SUICIDE\", \"val\": 65.0}, {\"col\": \"MISSION\", \"idx\": \"SUICIDE\", \"val\": 72.0}, {\"col\": \"NORTHERN\", \"idx\": \"SUICIDE\", \"val\": 67.0}, {\"col\": \"PARK\", \"idx\": \"SUICIDE\", \"val\": 20.0}, {\"col\": \"RICHMOND\", \"idx\": \"SUICIDE\", \"val\": 42.0}, {\"col\": \"SOUTHERN\", \"idx\": \"SUICIDE\", \"val\": 59.0}, {\"col\": \"TARAVAL\", \"idx\": \"SUICIDE\", \"val\": 59.0}, {\"col\": \"TENDERLOIN\", \"idx\": \"SUICIDE\", \"val\": 27.0}, {\"col\": \"BAYVIEW\", \"idx\": \"SUSPICIOUS OCC\", \"val\": 3906.0}, {\"col\": \"CENTRAL\", \"idx\": \"SUSPICIOUS OCC\", \"val\": 2842.0}, {\"col\": \"INGLESIDE\", \"idx\": \"SUSPICIOUS OCC\", \"val\": 3167.0}, {\"col\": \"MISSION\", \"idx\": \"SUSPICIOUS OCC\", \"val\": 3808.0}, {\"col\": \"NORTHERN\", \"idx\": \"SUSPICIOUS OCC\", \"val\": 3270.0}, {\"col\": \"PARK\", \"idx\": \"SUSPICIOUS OCC\", \"val\": 1656.0}, {\"col\": \"RICHMOND\", \"idx\": \"SUSPICIOUS OCC\", \"val\": 2191.0}, {\"col\": \"SOUTHERN\", \"idx\": \"SUSPICIOUS OCC\", \"val\": 5065.0}, {\"col\": \"TARAVAL\", \"idx\": \"SUSPICIOUS OCC\", \"val\": 2996.0}, {\"col\": \"TENDERLOIN\", \"idx\": \"SUSPICIOUS OCC\", \"val\": 2513.0}, {\"col\": \"BAYVIEW\", \"idx\": \"TREA\", \"val\": 3.0}, {\"col\": \"CENTRAL\", \"idx\": \"TREA\", \"val\": 1.0}, {\"col\": \"INGLESIDE\", \"idx\": \"TREA\", \"val\": NaN}, {\"col\": \"MISSION\", \"idx\": \"TREA\", \"val\": 1.0}, {\"col\": \"NORTHERN\", \"idx\": \"TREA\", \"val\": 1.0}, {\"col\": \"PARK\", \"idx\": \"TREA\", \"val\": NaN}, {\"col\": \"RICHMOND\", \"idx\": \"TREA\", \"val\": NaN}, {\"col\": \"SOUTHERN\", \"idx\": \"TREA\", \"val\": NaN}, {\"col\": \"TARAVAL\", \"idx\": \"TREA\", \"val\": NaN}, {\"col\": \"TENDERLOIN\", \"idx\": \"TREA\", \"val\": NaN}, {\"col\": \"BAYVIEW\", \"idx\": \"TRESPASS\", \"val\": 636.0}, {\"col\": \"CENTRAL\", \"idx\": \"TRESPASS\", \"val\": 904.0}, {\"col\": \"INGLESIDE\", \"idx\": \"TRESPASS\", \"val\": 416.0}, {\"col\": \"MISSION\", \"idx\": \"TRESPASS\", \"val\": 1021.0}, {\"col\": \"NORTHERN\", \"idx\": \"TRESPASS\", \"val\": 780.0}, {\"col\": \"PARK\", \"idx\": \"TRESPASS\", \"val\": 290.0}, {\"col\": \"RICHMOND\", \"idx\": \"TRESPASS\", \"val\": 245.0}, {\"col\": \"SOUTHERN\", \"idx\": \"TRESPASS\", \"val\": 1456.0}, {\"col\": \"TARAVAL\", \"idx\": \"TRESPASS\", \"val\": 386.0}, {\"col\": \"TENDERLOIN\", \"idx\": \"TRESPASS\", \"val\": 1192.0}, {\"col\": \"BAYVIEW\", \"idx\": \"VANDALISM\", \"val\": 5356.0}, {\"col\": \"CENTRAL\", \"idx\": \"VANDALISM\", \"val\": 4469.0}, {\"col\": \"INGLESIDE\", \"idx\": \"VANDALISM\", \"val\": 5374.0}, {\"col\": \"MISSION\", \"idx\": \"VANDALISM\", \"val\": 5294.0}, {\"col\": \"NORTHERN\", \"idx\": \"VANDALISM\", \"val\": 5404.0}, {\"col\": \"PARK\", \"idx\": \"VANDALISM\", \"val\": 2613.0}, {\"col\": \"RICHMOND\", \"idx\": \"VANDALISM\", \"val\": 3180.0}, {\"col\": \"SOUTHERN\", \"idx\": \"VANDALISM\", \"val\": 6550.0}, {\"col\": \"TARAVAL\", \"idx\": \"VANDALISM\", \"val\": 4869.0}, {\"col\": \"TENDERLOIN\", \"idx\": \"VANDALISM\", \"val\": 1616.0}, {\"col\": \"BAYVIEW\", \"idx\": \"VEHICLE THEFT\", \"val\": 7219.0}, {\"col\": \"CENTRAL\", \"idx\": \"VEHICLE THEFT\", \"val\": 4210.0}, {\"col\": \"INGLESIDE\", \"idx\": \"VEHICLE THEFT\", \"val\": 8960.0}, {\"col\": \"MISSION\", \"idx\": \"VEHICLE THEFT\", \"val\": 7148.0}, {\"col\": \"NORTHERN\", \"idx\": \"VEHICLE THEFT\", \"val\": 6291.0}, {\"col\": \"PARK\", \"idx\": \"VEHICLE THEFT\", \"val\": 3963.0}, {\"col\": \"RICHMOND\", \"idx\": \"VEHICLE THEFT\", \"val\": 4117.0}, {\"col\": \"SOUTHERN\", \"idx\": \"VEHICLE THEFT\", \"val\": 4725.0}, {\"col\": \"TARAVAL\", \"idx\": \"VEHICLE THEFT\", \"val\": 6142.0}, {\"col\": \"TENDERLOIN\", \"idx\": \"VEHICLE THEFT\", \"val\": 1006.0}, {\"col\": \"BAYVIEW\", \"idx\": \"WARRANTS\", \"val\": 4322.0}, {\"col\": \"CENTRAL\", \"idx\": \"WARRANTS\", \"val\": 2777.0}, {\"col\": \"INGLESIDE\", \"idx\": \"WARRANTS\", \"val\": 2528.0}, {\"col\": \"MISSION\", \"idx\": \"WARRANTS\", \"val\": 6615.0}, {\"col\": \"NORTHERN\", \"idx\": \"WARRANTS\", \"val\": 4599.0}, {\"col\": \"PARK\", \"idx\": \"WARRANTS\", \"val\": 2318.0}, {\"col\": \"RICHMOND\", \"idx\": \"WARRANTS\", \"val\": 1010.0}, {\"col\": \"SOUTHERN\", \"idx\": \"WARRANTS\", \"val\": 9102.0}, {\"col\": \"TARAVAL\", \"idx\": \"WARRANTS\", \"val\": 1617.0}, {\"col\": \"TENDERLOIN\", \"idx\": \"WARRANTS\", \"val\": 7326.0}, {\"col\": \"BAYVIEW\", \"idx\": \"WEAPON LAWS\", \"val\": 1647.0}, {\"col\": \"CENTRAL\", \"idx\": \"WEAPON LAWS\", \"val\": 487.0}, {\"col\": \"INGLESIDE\", \"idx\": \"WEAPON LAWS\", \"val\": 1130.0}, {\"col\": \"MISSION\", \"idx\": \"WEAPON LAWS\", \"val\": 1329.0}, {\"col\": \"NORTHERN\", \"idx\": \"WEAPON LAWS\", \"val\": 789.0}, {\"col\": \"PARK\", \"idx\": \"WEAPON LAWS\", \"val\": 357.0}, {\"col\": \"RICHMOND\", \"idx\": \"WEAPON LAWS\", \"val\": 327.0}, {\"col\": \"SOUTHERN\", \"idx\": \"WEAPON LAWS\", \"val\": 1128.0}, {\"col\": \"TARAVAL\", \"idx\": \"WEAPON LAWS\", \"val\": 567.0}, {\"col\": \"TENDERLOIN\", \"idx\": \"WEAPON LAWS\", \"val\": 794.0}]}], \"height\": 500, \"legends\": [], \"marks\": [{\"from\": {\"data\": \"table\", \"transform\": [{\"keys\": [\"data.idx\"], \"type\": \"facet\"}]}, \"marks\": [{\"properties\": {\"enter\": {\"fill\": {\"field\": \"data.col\", \"scale\": \"color\"}, \"width\": {\"band\": true, \"offset\": -1, \"scale\": \"pos\"}, \"x\": {\"field\": \"data.col\", \"scale\": \"pos\"}, \"y\": {\"field\": \"data.val\", \"scale\": \"y\"}, \"y2\": {\"scale\": \"y\", \"value\": 0}}}, \"type\": \"rect\"}], \"properties\": {\"enter\": {\"width\": {\"band\": true, \"scale\": \"x\"}, \"x\": {\"field\": \"key\", \"scale\": \"x\"}}}, \"scales\": [{\"domain\": {\"field\": \"data.col\"}, \"name\": \"pos\", \"range\": \"width\", \"type\": \"ordinal\"}], \"type\": \"group\"}], \"padding\": \"auto\", \"scales\": [{\"domain\": {\"data\": \"table\", \"field\": \"data.idx\"}, \"name\": \"x\", \"padding\": 0.2, \"range\": \"width\", \"type\": \"ordinal\"}, {\"domain\": {\"data\": \"table\", \"field\": \"data.val\"}, \"name\": \"y\", \"nice\": true, \"range\": \"height\"}, {\"domain\": {\"data\": \"table\", \"field\": \"data.col\"}, \"name\": \"color\", \"range\": \"category20\", \"type\": \"ordinal\"}], \"width\": 960}, function(chart) {\n",
       "         chart({el: \"#visb405fc41f3114e3fb935da1d4b7e099a\"}).update();\n",
       "       });\n",
       "     };\n",
       "     _do_plot();\n",
       "   })();\n",
       "</script>\n",
       "<style>.vega canvas {width: 100%;}</style>\n",
       "        "
      ],
      "text/plain": [
       "<IPython.core.display.HTML object>"
      ]
     },
     "metadata": {},
     "output_type": "display_data"
    }
   ],
   "source": [
    "vincent.core.initialize_notebook()\n",
    "group = vincent.GroupedBar(df)\n",
    "#group.legend(title='Categories')\n",
    "#group.colors(brew='Spectral')\n",
    "#group.width=750\n",
    "group.display()"
   ]
  },
  {
   "cell_type": "code",
   "execution_count": null,
   "metadata": {
    "collapsed": false
   },
   "outputs": [],
   "source": []
  },
  {
   "cell_type": "code",
   "execution_count": null,
   "metadata": {
    "collapsed": false
   },
   "outputs": [],
   "source": [
    "len(cc.index.levels[0])*len(cc.index.levels[1])"
   ]
  },
  {
   "cell_type": "code",
   "execution_count": 88,
   "metadata": {
    "collapsed": false
   },
   "outputs": [],
   "source": [
    "dates = pd.DatetimeIndex(crime.dates)\n",
    "hour = dates[0].hour\n",
    "crime['hour'] = hour"
   ]
  },
  {
   "cell_type": "code",
   "execution_count": 138,
   "metadata": {
    "collapsed": false
   },
   "outputs": [
    {
     "data": {
      "text/plain": [
       "<matplotlib.axes._subplots.AxesSubplot at 0x113320610>"
      ]
     },
     "execution_count": 138,
     "metadata": {},
     "output_type": "execute_result"
    },
    {
     "data": {
      "image/png": "[encoded data removed]",
      "text/plain": [
       "<matplotlib.figure.Figure at 0x113307710>"
      ]
     },
     "metadata": {},
     "output_type": "display_data"
    }
   ],
   "source": [
    "sns.heatmap(df.ix[ind],  linewidths=.5)"
   ]
  },
  {
   "cell_type": "code",
   "execution_count": 102,
   "metadata": {
    "collapsed": false
   },
   "outputs": [],
   "source": [
    "#What are the top 20 crimes in the city\n",
    "n = len(df.index)\n",
    "d_cat = {}\n",
    "for i in xrange(n):\n",
    "    d_cat[df.index[i]]=df.iloc[i].sum()\n",
    "#d_cat = sorted(d_cat.items(), key=operator.itemgetter(1),reverse=True)"
   ]
  },
  {
   "cell_type": "code",
   "execution_count": 106,
   "metadata": {
    "collapsed": false
   },
   "outputs": [],
   "source": [
    "d_cat_sorted = {}\n",
    "for a, b in sorted(d_cat.iteritems(), key=lambda item: item[1], reverse=True)[:20]:\n",
    "    d_cat_sorted[a]=b"
   ]
  },
  {
   "cell_type": "code",
   "execution_count": 107,
   "metadata": {
    "collapsed": false
   },
   "outputs": [
    {
     "data": {
      "text/plain": [
       "{'ASSAULT': 76876.0,\n",
       " 'BURGLARY': 36755.0,\n",
       " 'DRUG/NARCOTIC': 53971.0,\n",
       " 'FORGERY/COUNTERFEITING': 10609.0,\n",
       " 'FRAUD': 16679.0,\n",
       " 'LARCENY/THEFT': 174900.0,\n",
       " 'MISSING PERSON': 25989.0,\n",
       " 'NON-CRIMINAL': 92304.0,\n",
       " 'OTHER OFFENSES': 126182.0,\n",
       " 'PROSTITUTION': 7484.0,\n",
       " 'ROBBERY': 23000.0,\n",
       " 'SECONDARY CODES': 9985.0,\n",
       " 'SEX OFFENSES FORCIBLE': 4388.0,\n",
       " 'STOLEN PROPERTY': 4540.0,\n",
       " 'SUSPICIOUS OCC': 31414.0,\n",
       " 'TRESPASS': 7326.0,\n",
       " 'VANDALISM': 44725.0,\n",
       " 'VEHICLE THEFT': 53781.0,\n",
       " 'WARRANTS': 42214.0,\n",
       " 'WEAPON LAWS': 8555.0}"
      ]
     },
     "execution_count": 107,
     "metadata": {},
     "output_type": "execute_result"
    }
   ],
   "source": [
    "d_cat_sorted"
   ]
  },
  {
   "cell_type": "markdown",
   "metadata": {},
   "source": [
    "Which crimes effect you the most? Find neighborhoods that you should avoid for these crimes."
   ]
  },
  {
   "cell_type": "code",
   "execution_count": 112,
   "metadata": {
    "collapsed": false
   },
   "outputs": [],
   "source": [
    "df_keys = df.index.tolist"
   ]
  },
  {
   "cell_type": "code",
   "execution_count": 113,
   "metadata": {
    "collapsed": false
   },
   "outputs": [
    {
     "ename": "AttributeError",
     "evalue": "'function' object has no attribute 'index'",
     "output_type": "error",
     "traceback": [
      "\u001b[0;31m---------------------------------------------------------------------------\u001b[0m",
      "\u001b[0;31mAttributeError\u001b[0m                            Traceback (most recent call last)",
      "\u001b[0;32m<ipython-input-113-1e10192e0145>\u001b[0m in \u001b[0;36m<module>\u001b[0;34m()\u001b[0m\n\u001b[0;32m----> 1\u001b[0;31m \u001b[0mdf_keys\u001b[0m\u001b[0;34m.\u001b[0m\u001b[0mindex\u001b[0m\u001b[0;34m(\u001b[0m\u001b[0;34m'WEAPON LAWS'\u001b[0m\u001b[0;34m)\u001b[0m\u001b[0;34m\u001b[0m\u001b[0m\n\u001b[0m",
      "\u001b[0;31mAttributeError\u001b[0m: 'function' object has no attribute 'index'"
     ]
    }
   ],
   "source": [
    "df_keys.index('WEAPON LAWS')"
   ]
  },
  {
   "cell_type": "code",
   "execution_count": 115,
   "metadata": {
    "collapsed": false
   },
   "outputs": [],
   "source": [
    "indexes = [i for i,x in enumerate(df.index) if x == 'WEAPON LAWS']"
   ]
  },
  {
   "cell_type": "code",
   "execution_count": 135,
   "metadata": {
    "collapsed": false
   },
   "outputs": [],
   "source": [
    "ind = map(lambda y: [i for i,x in enumerate(df.index)if x == y][0],d_cat_sorted.keys())"
   ]
  },
  {
   "cell_type": "code",
   "execution_count": 136,
   "metadata": {
    "collapsed": false
   },
   "outputs": [
    {
     "data": {
      "text/plain": [
       "[13, 38, 25, 34, 27, 28, 37, 36, 7, 23, 1, 30, 16, 35, 19, 4, 20, 12, 21, 32]"
      ]
     },
     "execution_count": 136,
     "metadata": {},
     "output_type": "execute_result"
    }
   ],
   "source": [
    "ind"
   ]
  },
  {
   "cell_type": "code",
   "execution_count": 137,
   "metadata": {
    "collapsed": false
   },
   "outputs": [
    {
     "data": {
      "text/html": [
       "<div>\n",
       "<table border=\"1\" class=\"dataframe\">\n",
       "  <thead>\n",
       "    <tr style=\"text-align: right;\">\n",
       "      <th></th>\n",
       "      <th>BAYVIEW</th>\n",
       "      <th>CENTRAL</th>\n",
       "      <th>INGLESIDE</th>\n",
       "      <th>MISSION</th>\n",
       "      <th>NORTHERN</th>\n",
       "      <th>PARK</th>\n",
       "      <th>RICHMOND</th>\n",
       "      <th>SOUTHERN</th>\n",
       "      <th>TARAVAL</th>\n",
       "      <th>TENDERLOIN</th>\n",
       "    </tr>\n",
       "  </thead>\n",
       "  <tbody>\n",
       "    <tr>\n",
       "      <th>FRAUD</th>\n",
       "      <td>866</td>\n",
       "      <td>2344</td>\n",
       "      <td>1213</td>\n",
       "      <td>1970</td>\n",
       "      <td>2055</td>\n",
       "      <td>974</td>\n",
       "      <td>1137</td>\n",
       "      <td>3441</td>\n",
       "      <td>1549</td>\n",
       "      <td>1130</td>\n",
       "    </tr>\n",
       "    <tr>\n",
       "      <th>WEAPON LAWS</th>\n",
       "      <td>1647</td>\n",
       "      <td>487</td>\n",
       "      <td>1130</td>\n",
       "      <td>1329</td>\n",
       "      <td>789</td>\n",
       "      <td>357</td>\n",
       "      <td>327</td>\n",
       "      <td>1128</td>\n",
       "      <td>567</td>\n",
       "      <td>794</td>\n",
       "    </tr>\n",
       "    <tr>\n",
       "      <th>ROBBERY</th>\n",
       "      <td>2715</td>\n",
       "      <td>1999</td>\n",
       "      <td>2788</td>\n",
       "      <td>3629</td>\n",
       "      <td>2640</td>\n",
       "      <td>957</td>\n",
       "      <td>787</td>\n",
       "      <td>3878</td>\n",
       "      <td>1405</td>\n",
       "      <td>2202</td>\n",
       "    </tr>\n",
       "    <tr>\n",
       "      <th>TRESPASS</th>\n",
       "      <td>636</td>\n",
       "      <td>904</td>\n",
       "      <td>416</td>\n",
       "      <td>1021</td>\n",
       "      <td>780</td>\n",
       "      <td>290</td>\n",
       "      <td>245</td>\n",
       "      <td>1456</td>\n",
       "      <td>386</td>\n",
       "      <td>1192</td>\n",
       "    </tr>\n",
       "    <tr>\n",
       "      <th>SECONDARY CODES</th>\n",
       "      <td>1662</td>\n",
       "      <td>704</td>\n",
       "      <td>1300</td>\n",
       "      <td>1439</td>\n",
       "      <td>999</td>\n",
       "      <td>444</td>\n",
       "      <td>525</td>\n",
       "      <td>1205</td>\n",
       "      <td>983</td>\n",
       "      <td>724</td>\n",
       "    </tr>\n",
       "    <tr>\n",
       "      <th>SEX OFFENSES FORCIBLE</th>\n",
       "      <td>387</td>\n",
       "      <td>394</td>\n",
       "      <td>504</td>\n",
       "      <td>718</td>\n",
       "      <td>435</td>\n",
       "      <td>212</td>\n",
       "      <td>216</td>\n",
       "      <td>819</td>\n",
       "      <td>383</td>\n",
       "      <td>320</td>\n",
       "    </tr>\n",
       "    <tr>\n",
       "      <th>WARRANTS</th>\n",
       "      <td>4322</td>\n",
       "      <td>2777</td>\n",
       "      <td>2528</td>\n",
       "      <td>6615</td>\n",
       "      <td>4599</td>\n",
       "      <td>2318</td>\n",
       "      <td>1010</td>\n",
       "      <td>9102</td>\n",
       "      <td>1617</td>\n",
       "      <td>7326</td>\n",
       "    </tr>\n",
       "    <tr>\n",
       "      <th>VEHICLE THEFT</th>\n",
       "      <td>7219</td>\n",
       "      <td>4210</td>\n",
       "      <td>8960</td>\n",
       "      <td>7148</td>\n",
       "      <td>6291</td>\n",
       "      <td>3963</td>\n",
       "      <td>4117</td>\n",
       "      <td>4725</td>\n",
       "      <td>6142</td>\n",
       "      <td>1006</td>\n",
       "    </tr>\n",
       "    <tr>\n",
       "      <th>DRUG/NARCOTIC</th>\n",
       "      <td>4498</td>\n",
       "      <td>1805</td>\n",
       "      <td>2373</td>\n",
       "      <td>8757</td>\n",
       "      <td>4511</td>\n",
       "      <td>2573</td>\n",
       "      <td>999</td>\n",
       "      <td>9228</td>\n",
       "      <td>1531</td>\n",
       "      <td>17696</td>\n",
       "    </tr>\n",
       "    <tr>\n",
       "      <th>PROSTITUTION</th>\n",
       "      <td>70</td>\n",
       "      <td>778</td>\n",
       "      <td>26</td>\n",
       "      <td>3629</td>\n",
       "      <td>1831</td>\n",
       "      <td>5</td>\n",
       "      <td>24</td>\n",
       "      <td>135</td>\n",
       "      <td>82</td>\n",
       "      <td>904</td>\n",
       "    </tr>\n",
       "    <tr>\n",
       "      <th>ASSAULT</th>\n",
       "      <td>9857</td>\n",
       "      <td>6977</td>\n",
       "      <td>8533</td>\n",
       "      <td>11149</td>\n",
       "      <td>8318</td>\n",
       "      <td>3515</td>\n",
       "      <td>3202</td>\n",
       "      <td>12183</td>\n",
       "      <td>5463</td>\n",
       "      <td>7679</td>\n",
       "    </tr>\n",
       "    <tr>\n",
       "      <th>STOLEN PROPERTY</th>\n",
       "      <td>397</td>\n",
       "      <td>510</td>\n",
       "      <td>347</td>\n",
       "      <td>631</td>\n",
       "      <td>700</td>\n",
       "      <td>175</td>\n",
       "      <td>206</td>\n",
       "      <td>1007</td>\n",
       "      <td>231</td>\n",
       "      <td>336</td>\n",
       "    </tr>\n",
       "    <tr>\n",
       "      <th>LARCENY/THEFT</th>\n",
       "      <td>10119</td>\n",
       "      <td>25060</td>\n",
       "      <td>10236</td>\n",
       "      <td>18223</td>\n",
       "      <td>28630</td>\n",
       "      <td>9146</td>\n",
       "      <td>9893</td>\n",
       "      <td>41845</td>\n",
       "      <td>11845</td>\n",
       "      <td>9903</td>\n",
       "    </tr>\n",
       "    <tr>\n",
       "      <th>VANDALISM</th>\n",
       "      <td>5356</td>\n",
       "      <td>4469</td>\n",
       "      <td>5374</td>\n",
       "      <td>5294</td>\n",
       "      <td>5404</td>\n",
       "      <td>2613</td>\n",
       "      <td>3180</td>\n",
       "      <td>6550</td>\n",
       "      <td>4869</td>\n",
       "      <td>1616</td>\n",
       "    </tr>\n",
       "    <tr>\n",
       "      <th>MISSING PERSON</th>\n",
       "      <td>5038</td>\n",
       "      <td>1348</td>\n",
       "      <td>3181</td>\n",
       "      <td>3283</td>\n",
       "      <td>1956</td>\n",
       "      <td>2713</td>\n",
       "      <td>1183</td>\n",
       "      <td>3064</td>\n",
       "      <td>3390</td>\n",
       "      <td>833</td>\n",
       "    </tr>\n",
       "    <tr>\n",
       "      <th>BURGLARY</th>\n",
       "      <td>3930</td>\n",
       "      <td>4519</td>\n",
       "      <td>3331</td>\n",
       "      <td>3745</td>\n",
       "      <td>5854</td>\n",
       "      <td>2888</td>\n",
       "      <td>2696</td>\n",
       "      <td>4841</td>\n",
       "      <td>3463</td>\n",
       "      <td>1488</td>\n",
       "    </tr>\n",
       "    <tr>\n",
       "      <th>NON-CRIMINAL</th>\n",
       "      <td>6099</td>\n",
       "      <td>10940</td>\n",
       "      <td>6853</td>\n",
       "      <td>12372</td>\n",
       "      <td>10240</td>\n",
       "      <td>5925</td>\n",
       "      <td>5744</td>\n",
       "      <td>19745</td>\n",
       "      <td>6919</td>\n",
       "      <td>7467</td>\n",
       "    </tr>\n",
       "    <tr>\n",
       "      <th>FORGERY/COUNTERFEITING</th>\n",
       "      <td>774</td>\n",
       "      <td>1144</td>\n",
       "      <td>977</td>\n",
       "      <td>1281</td>\n",
       "      <td>1292</td>\n",
       "      <td>518</td>\n",
       "      <td>619</td>\n",
       "      <td>2345</td>\n",
       "      <td>1097</td>\n",
       "      <td>562</td>\n",
       "    </tr>\n",
       "    <tr>\n",
       "      <th>OTHER OFFENSES</th>\n",
       "      <td>17053</td>\n",
       "      <td>8901</td>\n",
       "      <td>13203</td>\n",
       "      <td>19330</td>\n",
       "      <td>12233</td>\n",
       "      <td>6184</td>\n",
       "      <td>5632</td>\n",
       "      <td>21308</td>\n",
       "      <td>8614</td>\n",
       "      <td>13724</td>\n",
       "    </tr>\n",
       "    <tr>\n",
       "      <th>SUSPICIOUS OCC</th>\n",
       "      <td>3906</td>\n",
       "      <td>2842</td>\n",
       "      <td>3167</td>\n",
       "      <td>3808</td>\n",
       "      <td>3270</td>\n",
       "      <td>1656</td>\n",
       "      <td>2191</td>\n",
       "      <td>5065</td>\n",
       "      <td>2996</td>\n",
       "      <td>2513</td>\n",
       "    </tr>\n",
       "  </tbody>\n",
       "</table>\n",
       "</div>"
      ],
      "text/plain": [
       "                        BAYVIEW  CENTRAL  INGLESIDE  MISSION  NORTHERN  PARK  \\\n",
       "FRAUD                       866     2344       1213     1970      2055   974   \n",
       "WEAPON LAWS                1647      487       1130     1329       789   357   \n",
       "ROBBERY                    2715     1999       2788     3629      2640   957   \n",
       "TRESPASS                    636      904        416     1021       780   290   \n",
       "SECONDARY CODES            1662      704       1300     1439       999   444   \n",
       "SEX OFFENSES FORCIBLE       387      394        504      718       435   212   \n",
       "WARRANTS                   4322     2777       2528     6615      4599  2318   \n",
       "VEHICLE THEFT              7219     4210       8960     7148      6291  3963   \n",
       "DRUG/NARCOTIC              4498     1805       2373     8757      4511  2573   \n",
       "PROSTITUTION                 70      778         26     3629      1831     5   \n",
       "ASSAULT                    9857     6977       8533    11149      8318  3515   \n",
       "STOLEN PROPERTY             397      510        347      631       700   175   \n",
       "LARCENY/THEFT             10119    25060      10236    18223     28630  9146   \n",
       "VANDALISM                  5356     4469       5374     5294      5404  2613   \n",
       "MISSING PERSON             5038     1348       3181     3283      1956  2713   \n",
       "BURGLARY                   3930     4519       3331     3745      5854  2888   \n",
       "NON-CRIMINAL               6099    10940       6853    12372     10240  5925   \n",
       "FORGERY/COUNTERFEITING      774     1144        977     1281      1292   518   \n",
       "OTHER OFFENSES            17053     8901      13203    19330     12233  6184   \n",
       "SUSPICIOUS OCC             3906     2842       3167     3808      3270  1656   \n",
       "\n",
       "                        RICHMOND  SOUTHERN  TARAVAL  TENDERLOIN  \n",
       "FRAUD                       1137      3441     1549        1130  \n",
       "WEAPON LAWS                  327      1128      567         794  \n",
       "ROBBERY                      787      3878     1405        2202  \n",
       "TRESPASS                     245      1456      386        1192  \n",
       "SECONDARY CODES              525      1205      983         724  \n",
       "SEX OFFENSES FORCIBLE        216       819      383         320  \n",
       "WARRANTS                    1010      9102     1617        7326  \n",
       "VEHICLE THEFT               4117      4725     6142        1006  \n",
       "DRUG/NARCOTIC                999      9228     1531       17696  \n",
       "PROSTITUTION                  24       135       82         904  \n",
       "ASSAULT                     3202     12183     5463        7679  \n",
       "STOLEN PROPERTY              206      1007      231         336  \n",
       "LARCENY/THEFT               9893     41845    11845        9903  \n",
       "VANDALISM                   3180      6550     4869        1616  \n",
       "MISSING PERSON              1183      3064     3390         833  \n",
       "BURGLARY                    2696      4841     3463        1488  \n",
       "NON-CRIMINAL                5744     19745     6919        7467  \n",
       "FORGERY/COUNTERFEITING       619      2345     1097         562  \n",
       "OTHER OFFENSES              5632     21308     8614       13724  \n",
       "SUSPICIOUS OCC              2191      5065     2996        2513  "
      ]
     },
     "execution_count": 137,
     "metadata": {},
     "output_type": "execute_result"
    }
   ],
   "source": [
    "df.ix[ind]"
   ]
  },
  {
   "cell_type": "code",
   "execution_count": 140,
   "metadata": {
    "collapsed": false
   },
   "outputs": [
    {
     "data": {
      "text/html": [
       "<div>\n",
       "<table border=\"1\" class=\"dataframe\">\n",
       "  <thead>\n",
       "    <tr style=\"text-align: right;\">\n",
       "      <th></th>\n",
       "      <th>x</th>\n",
       "      <th>y</th>\n",
       "      <th>hour</th>\n",
       "    </tr>\n",
       "  </thead>\n",
       "  <tbody>\n",
       "    <tr>\n",
       "      <th>x</th>\n",
       "      <td>1.000000</td>\n",
       "      <td>0.559338</td>\n",
       "      <td>NaN</td>\n",
       "    </tr>\n",
       "    <tr>\n",
       "      <th>y</th>\n",
       "      <td>0.559338</td>\n",
       "      <td>1.000000</td>\n",
       "      <td>NaN</td>\n",
       "    </tr>\n",
       "    <tr>\n",
       "      <th>hour</th>\n",
       "      <td>NaN</td>\n",
       "      <td>NaN</td>\n",
       "      <td>NaN</td>\n",
       "    </tr>\n",
       "  </tbody>\n",
       "</table>\n",
       "</div>"
      ],
      "text/plain": [
       "             x         y  hour\n",
       "x     1.000000  0.559338   NaN\n",
       "y     0.559338  1.000000   NaN\n",
       "hour       NaN       NaN   NaN"
      ]
     },
     "execution_count": 140,
     "metadata": {},
     "output_type": "execute_result"
    }
   ],
   "source": [
    "crime.corr()"
   ]
  },
  {
   "cell_type": "code",
   "execution_count": 142,
   "metadata": {
    "collapsed": false
   },
   "outputs": [
    {
     "data": {
      "text/html": [
       "<div>\n",
       "<table border=\"1\" class=\"dataframe\">\n",
       "  <thead>\n",
       "    <tr style=\"text-align: right;\">\n",
       "      <th></th>\n",
       "      <th>BAYVIEW</th>\n",
       "      <th>CENTRAL</th>\n",
       "      <th>INGLESIDE</th>\n",
       "      <th>MISSION</th>\n",
       "      <th>NORTHERN</th>\n",
       "      <th>PARK</th>\n",
       "      <th>RICHMOND</th>\n",
       "      <th>SOUTHERN</th>\n",
       "      <th>TARAVAL</th>\n",
       "      <th>TENDERLOIN</th>\n",
       "    </tr>\n",
       "  </thead>\n",
       "  <tbody>\n",
       "    <tr>\n",
       "      <th>BAYVIEW</th>\n",
       "      <td>1.000000</td>\n",
       "      <td>0.654143</td>\n",
       "      <td>0.961285</td>\n",
       "      <td>0.913386</td>\n",
       "      <td>0.712414</td>\n",
       "      <td>0.837839</td>\n",
       "      <td>0.775836</td>\n",
       "      <td>0.729637</td>\n",
       "      <td>0.860480</td>\n",
       "      <td>0.667421</td>\n",
       "    </tr>\n",
       "    <tr>\n",
       "      <th>CENTRAL</th>\n",
       "      <td>0.654143</td>\n",
       "      <td>1.000000</td>\n",
       "      <td>0.737686</td>\n",
       "      <td>0.825231</td>\n",
       "      <td>0.988290</td>\n",
       "      <td>0.918572</td>\n",
       "      <td>0.954436</td>\n",
       "      <td>0.971119</td>\n",
       "      <td>0.904247</td>\n",
       "      <td>0.487000</td>\n",
       "    </tr>\n",
       "    <tr>\n",
       "      <th>INGLESIDE</th>\n",
       "      <td>0.961285</td>\n",
       "      <td>0.737686</td>\n",
       "      <td>1.000000</td>\n",
       "      <td>0.903891</td>\n",
       "      <td>0.775423</td>\n",
       "      <td>0.886120</td>\n",
       "      <td>0.869738</td>\n",
       "      <td>0.763012</td>\n",
       "      <td>0.933480</td>\n",
       "      <td>0.555812</td>\n",
       "    </tr>\n",
       "    <tr>\n",
       "      <th>MISSION</th>\n",
       "      <td>0.913386</td>\n",
       "      <td>0.825231</td>\n",
       "      <td>0.903891</td>\n",
       "      <td>1.000000</td>\n",
       "      <td>0.866516</td>\n",
       "      <td>0.924248</td>\n",
       "      <td>0.870959</td>\n",
       "      <td>0.901857</td>\n",
       "      <td>0.891282</td>\n",
       "      <td>0.791435</td>\n",
       "    </tr>\n",
       "    <tr>\n",
       "      <th>NORTHERN</th>\n",
       "      <td>0.712414</td>\n",
       "      <td>0.988290</td>\n",
       "      <td>0.775423</td>\n",
       "      <td>0.866516</td>\n",
       "      <td>1.000000</td>\n",
       "      <td>0.933900</td>\n",
       "      <td>0.951814</td>\n",
       "      <td>0.976733</td>\n",
       "      <td>0.913772</td>\n",
       "      <td>0.559830</td>\n",
       "    </tr>\n",
       "    <tr>\n",
       "      <th>PARK</th>\n",
       "      <td>0.837839</td>\n",
       "      <td>0.918572</td>\n",
       "      <td>0.886120</td>\n",
       "      <td>0.924248</td>\n",
       "      <td>0.933900</td>\n",
       "      <td>1.000000</td>\n",
       "      <td>0.968054</td>\n",
       "      <td>0.935342</td>\n",
       "      <td>0.971035</td>\n",
       "      <td>0.624301</td>\n",
       "    </tr>\n",
       "    <tr>\n",
       "      <th>RICHMOND</th>\n",
       "      <td>0.775836</td>\n",
       "      <td>0.954436</td>\n",
       "      <td>0.869738</td>\n",
       "      <td>0.870959</td>\n",
       "      <td>0.951814</td>\n",
       "      <td>0.968054</td>\n",
       "      <td>1.000000</td>\n",
       "      <td>0.928519</td>\n",
       "      <td>0.980952</td>\n",
       "      <td>0.488897</td>\n",
       "    </tr>\n",
       "    <tr>\n",
       "      <th>SOUTHERN</th>\n",
       "      <td>0.729637</td>\n",
       "      <td>0.971119</td>\n",
       "      <td>0.763012</td>\n",
       "      <td>0.901857</td>\n",
       "      <td>0.976733</td>\n",
       "      <td>0.935342</td>\n",
       "      <td>0.928519</td>\n",
       "      <td>1.000000</td>\n",
       "      <td>0.890625</td>\n",
       "      <td>0.657937</td>\n",
       "    </tr>\n",
       "    <tr>\n",
       "      <th>TARAVAL</th>\n",
       "      <td>0.860480</td>\n",
       "      <td>0.904247</td>\n",
       "      <td>0.933480</td>\n",
       "      <td>0.891282</td>\n",
       "      <td>0.913772</td>\n",
       "      <td>0.971035</td>\n",
       "      <td>0.980952</td>\n",
       "      <td>0.890625</td>\n",
       "      <td>1.000000</td>\n",
       "      <td>0.499616</td>\n",
       "    </tr>\n",
       "    <tr>\n",
       "      <th>TENDERLOIN</th>\n",
       "      <td>0.667421</td>\n",
       "      <td>0.487000</td>\n",
       "      <td>0.555812</td>\n",
       "      <td>0.791435</td>\n",
       "      <td>0.559830</td>\n",
       "      <td>0.624301</td>\n",
       "      <td>0.488897</td>\n",
       "      <td>0.657937</td>\n",
       "      <td>0.499616</td>\n",
       "      <td>1.000000</td>\n",
       "    </tr>\n",
       "  </tbody>\n",
       "</table>\n",
       "</div>"
      ],
      "text/plain": [
       "             BAYVIEW   CENTRAL  INGLESIDE   MISSION  NORTHERN      PARK  \\\n",
       "BAYVIEW     1.000000  0.654143   0.961285  0.913386  0.712414  0.837839   \n",
       "CENTRAL     0.654143  1.000000   0.737686  0.825231  0.988290  0.918572   \n",
       "INGLESIDE   0.961285  0.737686   1.000000  0.903891  0.775423  0.886120   \n",
       "MISSION     0.913386  0.825231   0.903891  1.000000  0.866516  0.924248   \n",
       "NORTHERN    0.712414  0.988290   0.775423  0.866516  1.000000  0.933900   \n",
       "PARK        0.837839  0.918572   0.886120  0.924248  0.933900  1.000000   \n",
       "RICHMOND    0.775836  0.954436   0.869738  0.870959  0.951814  0.968054   \n",
       "SOUTHERN    0.729637  0.971119   0.763012  0.901857  0.976733  0.935342   \n",
       "TARAVAL     0.860480  0.904247   0.933480  0.891282  0.913772  0.971035   \n",
       "TENDERLOIN  0.667421  0.487000   0.555812  0.791435  0.559830  0.624301   \n",
       "\n",
       "            RICHMOND  SOUTHERN   TARAVAL  TENDERLOIN  \n",
       "BAYVIEW     0.775836  0.729637  0.860480    0.667421  \n",
       "CENTRAL     0.954436  0.971119  0.904247    0.487000  \n",
       "INGLESIDE   0.869738  0.763012  0.933480    0.555812  \n",
       "MISSION     0.870959  0.901857  0.891282    0.791435  \n",
       "NORTHERN    0.951814  0.976733  0.913772    0.559830  \n",
       "PARK        0.968054  0.935342  0.971035    0.624301  \n",
       "RICHMOND    1.000000  0.928519  0.980952    0.488897  \n",
       "SOUTHERN    0.928519  1.000000  0.890625    0.657937  \n",
       "TARAVAL     0.980952  0.890625  1.000000    0.499616  \n",
       "TENDERLOIN  0.488897  0.657937  0.499616    1.000000  "
      ]
     },
     "execution_count": 142,
     "metadata": {},
     "output_type": "execute_result"
    }
   ],
   "source": []
  },
  {
   "cell_type": "code",
   "execution_count": 143,
   "metadata": {
    "collapsed": true
   },
   "outputs": [],
   "source": [
    "rs = np.random.RandomState(4)\n",
    "pos = rs.randint(-1, 2, (20, 5)).cumsum(axis=1)\n",
    "pos -= pos[:, 0, np.newaxis]\n",
    "step = np.tile(range(5), 20)\n",
    "walk = np.repeat(range(20), 5)\n",
    "df = pd.DataFrame(np.c_[pos.flat, step, walk],\n",
    "                  columns=[\"position\", \"step\", \"walk\"])"
   ]
  },
  {
   "cell_type": "code",
   "execution_count": 144,
   "metadata": {
    "collapsed": false
   },
   "outputs": [
    {
     "data": {
      "image/png": "[encoded data removed]",
      "text/plain": [
       "<matplotlib.figure.Figure at 0x1133284d0>"
      ]
     },
     "metadata": {},
     "output_type": "display_data"
    }
   ],
   "source": [
    "# Initialize a grid of plots with an Axes for each walk\n",
    "grid = sns.FacetGrid(df, col=\"walk\", hue=\"walk\", col_wrap=5, size=1.5)\n",
    "\n",
    "# Draw a horizontal line to show the starting point\n",
    "grid.map(plt.axhline, y=0, ls=\":\", c=\".5\")\n",
    "\n",
    "# Draw a line plot to show the trajectory of each random walk\n",
    "grid.map(plt.plot, \"step\", \"position\", marker=\"o\", ms=4)\n",
    "\n",
    "# Adjust the tick positions and labels\n",
    "grid.set(xticks=np.arange(5), yticks=[-3, 3],\n",
    "         xlim=(-.5, 4.5), ylim=(-3.5, 3.5))\n",
    "\n",
    "# Adjust the arrangement of the plots\n",
    "grid.fig.tight_layout(w_pad=1)"
   ]
  },
  {
   "cell_type": "code",
   "execution_count": 145,
   "metadata": {
    "collapsed": false
   },
   "outputs": [
    {
     "data": {
      "text/html": [
       "<div>\n",
       "<table border=\"1\" class=\"dataframe\">\n",
       "  <thead>\n",
       "    <tr style=\"text-align: right;\">\n",
       "      <th></th>\n",
       "      <th>position</th>\n",
       "      <th>step</th>\n",
       "      <th>walk</th>\n",
       "    </tr>\n",
       "  </thead>\n",
       "  <tbody>\n",
       "    <tr>\n",
       "      <th>0</th>\n",
       "      <td>0</td>\n",
       "      <td>0</td>\n",
       "      <td>0</td>\n",
       "    </tr>\n",
       "    <tr>\n",
       "      <th>1</th>\n",
       "      <td>1</td>\n",
       "      <td>1</td>\n",
       "      <td>0</td>\n",
       "    </tr>\n",
       "    <tr>\n",
       "      <th>2</th>\n",
       "      <td>1</td>\n",
       "      <td>2</td>\n",
       "      <td>0</td>\n",
       "    </tr>\n",
       "    <tr>\n",
       "      <th>3</th>\n",
       "      <td>1</td>\n",
       "      <td>3</td>\n",
       "      <td>0</td>\n",
       "    </tr>\n",
       "    <tr>\n",
       "      <th>4</th>\n",
       "      <td>0</td>\n",
       "      <td>4</td>\n",
       "      <td>0</td>\n",
       "    </tr>\n",
       "    <tr>\n",
       "      <th>5</th>\n",
       "      <td>0</td>\n",
       "      <td>0</td>\n",
       "      <td>1</td>\n",
       "    </tr>\n",
       "    <tr>\n",
       "      <th>6</th>\n",
       "      <td>1</td>\n",
       "      <td>1</td>\n",
       "      <td>1</td>\n",
       "    </tr>\n",
       "    <tr>\n",
       "      <th>7</th>\n",
       "      <td>1</td>\n",
       "      <td>2</td>\n",
       "      <td>1</td>\n",
       "    </tr>\n",
       "    <tr>\n",
       "      <th>8</th>\n",
       "      <td>2</td>\n",
       "      <td>3</td>\n",
       "      <td>1</td>\n",
       "    </tr>\n",
       "    <tr>\n",
       "      <th>9</th>\n",
       "      <td>1</td>\n",
       "      <td>4</td>\n",
       "      <td>1</td>\n",
       "    </tr>\n",
       "    <tr>\n",
       "      <th>10</th>\n",
       "      <td>0</td>\n",
       "      <td>0</td>\n",
       "      <td>2</td>\n",
       "    </tr>\n",
       "    <tr>\n",
       "      <th>11</th>\n",
       "      <td>1</td>\n",
       "      <td>1</td>\n",
       "      <td>2</td>\n",
       "    </tr>\n",
       "    <tr>\n",
       "      <th>12</th>\n",
       "      <td>1</td>\n",
       "      <td>2</td>\n",
       "      <td>2</td>\n",
       "    </tr>\n",
       "    <tr>\n",
       "      <th>13</th>\n",
       "      <td>0</td>\n",
       "      <td>3</td>\n",
       "      <td>2</td>\n",
       "    </tr>\n",
       "    <tr>\n",
       "      <th>14</th>\n",
       "      <td>-1</td>\n",
       "      <td>4</td>\n",
       "      <td>2</td>\n",
       "    </tr>\n",
       "    <tr>\n",
       "      <th>15</th>\n",
       "      <td>0</td>\n",
       "      <td>0</td>\n",
       "      <td>3</td>\n",
       "    </tr>\n",
       "    <tr>\n",
       "      <th>16</th>\n",
       "      <td>-1</td>\n",
       "      <td>1</td>\n",
       "      <td>3</td>\n",
       "    </tr>\n",
       "    <tr>\n",
       "      <th>17</th>\n",
       "      <td>0</td>\n",
       "      <td>2</td>\n",
       "      <td>3</td>\n",
       "    </tr>\n",
       "    <tr>\n",
       "      <th>18</th>\n",
       "      <td>1</td>\n",
       "      <td>3</td>\n",
       "      <td>3</td>\n",
       "    </tr>\n",
       "    <tr>\n",
       "      <th>19</th>\n",
       "      <td>2</td>\n",
       "      <td>4</td>\n",
       "      <td>3</td>\n",
       "    </tr>\n",
       "    <tr>\n",
       "      <th>20</th>\n",
       "      <td>0</td>\n",
       "      <td>0</td>\n",
       "      <td>4</td>\n",
       "    </tr>\n",
       "    <tr>\n",
       "      <th>21</th>\n",
       "      <td>-1</td>\n",
       "      <td>1</td>\n",
       "      <td>4</td>\n",
       "    </tr>\n",
       "    <tr>\n",
       "      <th>22</th>\n",
       "      <td>-1</td>\n",
       "      <td>2</td>\n",
       "      <td>4</td>\n",
       "    </tr>\n",
       "    <tr>\n",
       "      <th>23</th>\n",
       "      <td>-1</td>\n",
       "      <td>3</td>\n",
       "      <td>4</td>\n",
       "    </tr>\n",
       "    <tr>\n",
       "      <th>24</th>\n",
       "      <td>-1</td>\n",
       "      <td>4</td>\n",
       "      <td>4</td>\n",
       "    </tr>\n",
       "    <tr>\n",
       "      <th>25</th>\n",
       "      <td>0</td>\n",
       "      <td>0</td>\n",
       "      <td>5</td>\n",
       "    </tr>\n",
       "    <tr>\n",
       "      <th>26</th>\n",
       "      <td>0</td>\n",
       "      <td>1</td>\n",
       "      <td>5</td>\n",
       "    </tr>\n",
       "    <tr>\n",
       "      <th>27</th>\n",
       "      <td>1</td>\n",
       "      <td>2</td>\n",
       "      <td>5</td>\n",
       "    </tr>\n",
       "    <tr>\n",
       "      <th>28</th>\n",
       "      <td>0</td>\n",
       "      <td>3</td>\n",
       "      <td>5</td>\n",
       "    </tr>\n",
       "    <tr>\n",
       "      <th>29</th>\n",
       "      <td>1</td>\n",
       "      <td>4</td>\n",
       "      <td>5</td>\n",
       "    </tr>\n",
       "    <tr>\n",
       "      <th>...</th>\n",
       "      <td>...</td>\n",
       "      <td>...</td>\n",
       "      <td>...</td>\n",
       "    </tr>\n",
       "    <tr>\n",
       "      <th>70</th>\n",
       "      <td>0</td>\n",
       "      <td>0</td>\n",
       "      <td>14</td>\n",
       "    </tr>\n",
       "    <tr>\n",
       "      <th>71</th>\n",
       "      <td>0</td>\n",
       "      <td>1</td>\n",
       "      <td>14</td>\n",
       "    </tr>\n",
       "    <tr>\n",
       "      <th>72</th>\n",
       "      <td>1</td>\n",
       "      <td>2</td>\n",
       "      <td>14</td>\n",
       "    </tr>\n",
       "    <tr>\n",
       "      <th>73</th>\n",
       "      <td>0</td>\n",
       "      <td>3</td>\n",
       "      <td>14</td>\n",
       "    </tr>\n",
       "    <tr>\n",
       "      <th>74</th>\n",
       "      <td>-1</td>\n",
       "      <td>4</td>\n",
       "      <td>14</td>\n",
       "    </tr>\n",
       "    <tr>\n",
       "      <th>75</th>\n",
       "      <td>0</td>\n",
       "      <td>0</td>\n",
       "      <td>15</td>\n",
       "    </tr>\n",
       "    <tr>\n",
       "      <th>76</th>\n",
       "      <td>0</td>\n",
       "      <td>1</td>\n",
       "      <td>15</td>\n",
       "    </tr>\n",
       "    <tr>\n",
       "      <th>77</th>\n",
       "      <td>-1</td>\n",
       "      <td>2</td>\n",
       "      <td>15</td>\n",
       "    </tr>\n",
       "    <tr>\n",
       "      <th>78</th>\n",
       "      <td>0</td>\n",
       "      <td>3</td>\n",
       "      <td>15</td>\n",
       "    </tr>\n",
       "    <tr>\n",
       "      <th>79</th>\n",
       "      <td>0</td>\n",
       "      <td>4</td>\n",
       "      <td>15</td>\n",
       "    </tr>\n",
       "    <tr>\n",
       "      <th>80</th>\n",
       "      <td>0</td>\n",
       "      <td>0</td>\n",
       "      <td>16</td>\n",
       "    </tr>\n",
       "    <tr>\n",
       "      <th>81</th>\n",
       "      <td>-1</td>\n",
       "      <td>1</td>\n",
       "      <td>16</td>\n",
       "    </tr>\n",
       "    <tr>\n",
       "      <th>82</th>\n",
       "      <td>0</td>\n",
       "      <td>2</td>\n",
       "      <td>16</td>\n",
       "    </tr>\n",
       "    <tr>\n",
       "      <th>83</th>\n",
       "      <td>-1</td>\n",
       "      <td>3</td>\n",
       "      <td>16</td>\n",
       "    </tr>\n",
       "    <tr>\n",
       "      <th>84</th>\n",
       "      <td>0</td>\n",
       "      <td>4</td>\n",
       "      <td>16</td>\n",
       "    </tr>\n",
       "    <tr>\n",
       "      <th>85</th>\n",
       "      <td>0</td>\n",
       "      <td>0</td>\n",
       "      <td>17</td>\n",
       "    </tr>\n",
       "    <tr>\n",
       "      <th>86</th>\n",
       "      <td>-1</td>\n",
       "      <td>1</td>\n",
       "      <td>17</td>\n",
       "    </tr>\n",
       "    <tr>\n",
       "      <th>87</th>\n",
       "      <td>-2</td>\n",
       "      <td>2</td>\n",
       "      <td>17</td>\n",
       "    </tr>\n",
       "    <tr>\n",
       "      <th>88</th>\n",
       "      <td>-2</td>\n",
       "      <td>3</td>\n",
       "      <td>17</td>\n",
       "    </tr>\n",
       "    <tr>\n",
       "      <th>89</th>\n",
       "      <td>-1</td>\n",
       "      <td>4</td>\n",
       "      <td>17</td>\n",
       "    </tr>\n",
       "    <tr>\n",
       "      <th>90</th>\n",
       "      <td>0</td>\n",
       "      <td>0</td>\n",
       "      <td>18</td>\n",
       "    </tr>\n",
       "    <tr>\n",
       "      <th>91</th>\n",
       "      <td>0</td>\n",
       "      <td>1</td>\n",
       "      <td>18</td>\n",
       "    </tr>\n",
       "    <tr>\n",
       "      <th>92</th>\n",
       "      <td>0</td>\n",
       "      <td>2</td>\n",
       "      <td>18</td>\n",
       "    </tr>\n",
       "    <tr>\n",
       "      <th>93</th>\n",
       "      <td>-1</td>\n",
       "      <td>3</td>\n",
       "      <td>18</td>\n",
       "    </tr>\n",
       "    <tr>\n",
       "      <th>94</th>\n",
       "      <td>0</td>\n",
       "      <td>4</td>\n",
       "      <td>18</td>\n",
       "    </tr>\n",
       "    <tr>\n",
       "      <th>95</th>\n",
       "      <td>0</td>\n",
       "      <td>0</td>\n",
       "      <td>19</td>\n",
       "    </tr>\n",
       "    <tr>\n",
       "      <th>96</th>\n",
       "      <td>-1</td>\n",
       "      <td>1</td>\n",
       "      <td>19</td>\n",
       "    </tr>\n",
       "    <tr>\n",
       "      <th>97</th>\n",
       "      <td>0</td>\n",
       "      <td>2</td>\n",
       "      <td>19</td>\n",
       "    </tr>\n",
       "    <tr>\n",
       "      <th>98</th>\n",
       "      <td>1</td>\n",
       "      <td>3</td>\n",
       "      <td>19</td>\n",
       "    </tr>\n",
       "    <tr>\n",
       "      <th>99</th>\n",
       "      <td>0</td>\n",
       "      <td>4</td>\n",
       "      <td>19</td>\n",
       "    </tr>\n",
       "  </tbody>\n",
       "</table>\n",
       "<p>100 rows × 3 columns</p>\n",
       "</div>"
      ],
      "text/plain": [
       "    position  step  walk\n",
       "0          0     0     0\n",
       "1          1     1     0\n",
       "2          1     2     0\n",
       "3          1     3     0\n",
       "4          0     4     0\n",
       "5          0     0     1\n",
       "6          1     1     1\n",
       "7          1     2     1\n",
       "8          2     3     1\n",
       "9          1     4     1\n",
       "10         0     0     2\n",
       "11         1     1     2\n",
       "12         1     2     2\n",
       "13         0     3     2\n",
       "14        -1     4     2\n",
       "15         0     0     3\n",
       "16        -1     1     3\n",
       "17         0     2     3\n",
       "18         1     3     3\n",
       "19         2     4     3\n",
       "20         0     0     4\n",
       "21        -1     1     4\n",
       "22        -1     2     4\n",
       "23        -1     3     4\n",
       "24        -1     4     4\n",
       "25         0     0     5\n",
       "26         0     1     5\n",
       "27         1     2     5\n",
       "28         0     3     5\n",
       "29         1     4     5\n",
       "..       ...   ...   ...\n",
       "70         0     0    14\n",
       "71         0     1    14\n",
       "72         1     2    14\n",
       "73         0     3    14\n",
       "74        -1     4    14\n",
       "75         0     0    15\n",
       "76         0     1    15\n",
       "77        -1     2    15\n",
       "78         0     3    15\n",
       "79         0     4    15\n",
       "80         0     0    16\n",
       "81        -1     1    16\n",
       "82         0     2    16\n",
       "83        -1     3    16\n",
       "84         0     4    16\n",
       "85         0     0    17\n",
       "86        -1     1    17\n",
       "87        -2     2    17\n",
       "88        -2     3    17\n",
       "89        -1     4    17\n",
       "90         0     0    18\n",
       "91         0     1    18\n",
       "92         0     2    18\n",
       "93        -1     3    18\n",
       "94         0     4    18\n",
       "95         0     0    19\n",
       "96        -1     1    19\n",
       "97         0     2    19\n",
       "98         1     3    19\n",
       "99         0     4    19\n",
       "\n",
       "[100 rows x 3 columns]"
      ]
     },
     "execution_count": 145,
     "metadata": {},
     "output_type": "execute_result"
    }
   ],
   "source": [
    "df"
   ]
  },
  {
   "cell_type": "code",
   "execution_count": null,
   "metadata": {
    "collapsed": true
   },
   "outputs": [],
   "source": []
  }
 ],
 "metadata": {
  "kernelspec": {
   "display_name": "Python 2",
   "language": "python",
   "name": "python2"
  },
  "language_info": {
   "codemirror_mode": {
    "name": "ipython",
    "version": 2
   },
   "file_extension": ".py",
   "mimetype": "text/x-python",
   "name": "python",
   "nbconvert_exporter": "python",
   "pygments_lexer": "ipython2",
   "version": "2.7.10"
  }
 },
 "nbformat": 4,
 "nbformat_minor": 0
}
